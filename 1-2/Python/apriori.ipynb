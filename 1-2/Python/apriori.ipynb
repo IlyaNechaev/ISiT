{
 "cells": [
  {
   "cell_type": "code",
   "execution_count": 101,
   "id": "d4f70fc9",
   "metadata": {},
   "outputs": [],
   "source": [
    "import csv\n",
    "\n",
    "file = open(\"transactions.csv\")\n",
    "\n",
    "csvreader = csv.reader(file)\n",
    "\n",
    "transactions = []\n",
    "for transaction in csvreader:\n",
    "        transactions.append(transaction)\n",
    "        \n",
    "        \n",
    "file = open(\"BreadBasket_DMS.csv\")\n",
    "\n",
    "csvreader = csv.reader(file)\n",
    "\n",
    "bread_transactions = None\n",
    "transaction = []\n",
    "trans_number = 1\n",
    "for item in csvreader:\n",
    "    if int(item[2]) != int(trans_number):\n",
    "        if bread_transactions is None:\n",
    "            bread_transactions = [transaction]\n",
    "        else:\n",
    "            bread_transactions.append(transaction)\n",
    "        trans_number += 1\n",
    "        transaction = []\n",
    "    transaction.append(item[3])"
   ]
  },
  {
   "cell_type": "markdown",
   "id": "7e6a35b9",
   "metadata": {},
   "source": [
    "# 1. Apriori"
   ]
  },
  {
   "cell_type": "code",
   "execution_count": 100,
   "id": "9caf0d9f",
   "metadata": {},
   "outputs": [],
   "source": [
    "def apriori_tests():\n",
    "    from apriori_python import apriori\n",
    "    return apriori(transactions, minSup=0.16, minConf=0.1)\n",
    "\n",
    "def apriori_repo():\n",
    "    from apriori_python import apriori\n",
    "    return apriori(bread_transactions, minSup=0.1, minConf=0.1)"
   ]
  },
  {
   "cell_type": "markdown",
   "id": "e8e494f3",
   "metadata": {},
   "source": [
    "### 1.1 Тестовые варианты"
   ]
  },
  {
   "cell_type": "code",
   "execution_count": 28,
   "id": "09966023",
   "metadata": {},
   "outputs": [],
   "source": [
    "freqItemSet, rules = apriori_tests()"
   ]
  },
  {
   "cell_type": "code",
   "execution_count": 29,
   "id": "a7206699",
   "metadata": {},
   "outputs": [
    {
     "data": {
      "text/plain": [
       "{1: {frozenset({'Крем'}),\n",
       "  frozenset({'Карандаш'}),\n",
       "  frozenset({'Помада'}),\n",
       "  frozenset({'Лайнер'}),\n",
       "  frozenset({'Гель'}),\n",
       "  frozenset({'Тушь'}),\n",
       "  frozenset({'Праймер'}),\n",
       "  frozenset({'Bb-крем'}),\n",
       "  frozenset({'Блеск'}),\n",
       "  frozenset({'Матовая помада'}),\n",
       "  frozenset({'Тени'}),\n",
       "  frozenset({'Подводка'})},\n",
       " 2: {frozenset({'Bb-крем', 'Лайнер'}),\n",
       "  frozenset({'Лайнер', 'Тушь'}),\n",
       "  frozenset({'Крем', 'Праймер'}),\n",
       "  frozenset({'Карандаш', 'Лайнер'}),\n",
       "  frozenset({'Лайнер', 'Помада'}),\n",
       "  frozenset({'Блеск', 'Помада'}),\n",
       "  frozenset({'Bb-крем', 'Помада'})}}"
      ]
     },
     "execution_count": 29,
     "metadata": {},
     "output_type": "execute_result"
    }
   ],
   "source": [
    "freqItemSet"
   ]
  },
  {
   "cell_type": "code",
   "execution_count": 8,
   "id": "613e346a",
   "metadata": {},
   "outputs": [
    {
     "data": {
      "text/plain": [
       "[[{'Помада'}, {'Bb-крем'}, 0.38461538461538464],\n",
       " [{'Помада'}, {'Лайнер'}, 0.38461538461538464],\n",
       " [{'Тушь'}, {'Лайнер'}, 0.45454545454545453],\n",
       " [{'Помада'}, {'Блеск'}, 0.46153846153846156],\n",
       " [{'Bb-крем'}, {'Помада'}, 0.5555555555555556],\n",
       " [{'Лайнер'}, {'Тушь'}, 0.5555555555555556],\n",
       " [{'Лайнер'}, {'Bb-крем'}, 0.5555555555555556],\n",
       " [{'Bb-крем'}, {'Лайнер'}, 0.5555555555555556],\n",
       " [{'Лайнер'}, {'Карандаш'}, 0.5555555555555556],\n",
       " [{'Карандаш'}, {'Лайнер'}, 0.5555555555555556],\n",
       " [{'Лайнер'}, {'Помада'}, 0.5555555555555556],\n",
       " [{'Крем'}, {'Праймер'}, 0.6],\n",
       " [{'Блеск'}, {'Помада'}, 0.6],\n",
       " [{'Праймер'}, {'Крем'}, 0.8571428571428571]]"
      ]
     },
     "execution_count": 8,
     "metadata": {},
     "output_type": "execute_result"
    }
   ],
   "source": [
    "rules"
   ]
  },
  {
   "cell_type": "markdown",
   "id": "cf56878a",
   "metadata": {},
   "source": [
    "При минимальной поддержке *0,16* образуется 14 правил и 7 двухпредметных наборов"
   ]
  },
  {
   "cell_type": "code",
   "execution_count": 35,
   "id": "c2f7d3d7",
   "metadata": {},
   "outputs": [],
   "source": [
    "from apriori_python import apriori\n",
    "freqItemSet, rules = apriori(transactions, minSup=0.6, minConf=0.1)"
   ]
  },
  {
   "cell_type": "code",
   "execution_count": 36,
   "id": "e03100d5",
   "metadata": {},
   "outputs": [
    {
     "data": {
      "text/plain": [
       "{}"
      ]
     },
     "execution_count": 36,
     "metadata": {},
     "output_type": "execute_result"
    }
   ],
   "source": [
    "freqItemSet"
   ]
  },
  {
   "cell_type": "code",
   "execution_count": 13,
   "id": "35a55367",
   "metadata": {},
   "outputs": [
    {
     "data": {
      "text/plain": [
       "[]"
      ]
     },
     "execution_count": 13,
     "metadata": {},
     "output_type": "execute_result"
    }
   ],
   "source": [
    "rules"
   ]
  },
  {
   "cell_type": "markdown",
   "id": "90a84534",
   "metadata": {},
   "source": [
    "В тестовых данных нет предмета, имеющего поддержку больше или равно *0,6*"
   ]
  },
  {
   "cell_type": "markdown",
   "id": "e46b3319",
   "metadata": {},
   "source": [
    "### 1.2 Вариант из репозитория"
   ]
  },
  {
   "cell_type": "code",
   "execution_count": 31,
   "id": "ee8de874",
   "metadata": {},
   "outputs": [],
   "source": [
    "freqItemSet, rules = apriori_repo()"
   ]
  },
  {
   "cell_type": "code",
   "execution_count": 95,
   "id": "d02ae9b3",
   "metadata": {
    "scrolled": true
   },
   "outputs": [
    {
     "data": {
      "text/plain": [
       "{1: {frozenset({'Cookies'}),\n",
       "  frozenset({'Bread'}),\n",
       "  frozenset({'Jam'}),\n",
       "  frozenset({'Pastry'}),\n",
       "  frozenset({'Muffin'}),\n",
       "  frozenset({'Tea'})},\n",
       " 2: {frozenset({'Bread', 'Tea'}), frozenset({'Bread', 'Cookies'})}}"
      ]
     },
     "execution_count": 95,
     "metadata": {},
     "output_type": "execute_result"
    }
   ],
   "source": [
    "freqItemSet"
   ]
  },
  {
   "cell_type": "code",
   "execution_count": 96,
   "id": "cb7fa541",
   "metadata": {
    "scrolled": true
   },
   "outputs": [
    {
     "data": {
      "text/plain": [
       "[[{'Bread'}, {'Tea'}, 0.17083715446089348],\n",
       " [{'Bread'}, {'Cookies'}, 0.2013625049128783],\n",
       " [{'Tea'}, {'Bread'}, 0.6766995329527763],\n",
       " [{'Cookies'}, {'Bread'}, 0.7162162162162162]]"
      ]
     },
     "execution_count": 96,
     "metadata": {},
     "output_type": "execute_result"
    }
   ],
   "source": [
    "rules"
   ]
  },
  {
   "cell_type": "markdown",
   "id": "5a9b7263",
   "metadata": {},
   "source": [
    "При минимальной поддержке 0,1 образуется 4 правила и 2 двухпредметных набора"
   ]
  },
  {
   "cell_type": "code",
   "execution_count": 97,
   "id": "a7749d9d",
   "metadata": {},
   "outputs": [],
   "source": [
    "from apriori_python import apriori\n",
    "freqItemSet, rules = apriori(bread_transactions, minSup=0.6, minConf=0.1)"
   ]
  },
  {
   "cell_type": "code",
   "execution_count": 98,
   "id": "d59d0c75",
   "metadata": {
    "scrolled": true
   },
   "outputs": [
    {
     "data": {
      "text/plain": [
       "{1: {frozenset({'Bread'})}}"
      ]
     },
     "execution_count": 98,
     "metadata": {},
     "output_type": "execute_result"
    }
   ],
   "source": [
    "freqItemSet"
   ]
  },
  {
   "cell_type": "code",
   "execution_count": 99,
   "id": "3b10f2e0",
   "metadata": {
    "scrolled": true
   },
   "outputs": [
    {
     "data": {
      "text/plain": [
       "[]"
      ]
     },
     "execution_count": 99,
     "metadata": {},
     "output_type": "execute_result"
    }
   ],
   "source": [
    "rules"
   ]
  },
  {
   "cell_type": "markdown",
   "id": "b168bbbd",
   "metadata": {},
   "source": [
    "# 2. Efficient apriori"
   ]
  },
  {
   "cell_type": "code",
   "execution_count": 102,
   "id": "b0b83366",
   "metadata": {},
   "outputs": [],
   "source": [
    "def efficient_test():\n",
    "    from efficient_apriori import apriori\n",
    "    return apriori(transactions, min_support=0.16, min_confidence=0.1)\n",
    "\n",
    "def efficient_repo():\n",
    "    from efficient_apriori import apriori\n",
    "    return apriori(bread_transactions, min_support=0.1, min_confidence=0.1)"
   ]
  },
  {
   "cell_type": "markdown",
   "id": "a92ae65e",
   "metadata": {},
   "source": [
    "### 2.1 Тестовые варианты"
   ]
  },
  {
   "cell_type": "code",
   "execution_count": 40,
   "id": "a38aa07b",
   "metadata": {},
   "outputs": [],
   "source": [
    "freqItemSet, rules = efficient_test()"
   ]
  },
  {
   "cell_type": "code",
   "execution_count": 41,
   "id": "8b3fa119",
   "metadata": {},
   "outputs": [
    {
     "data": {
      "text/plain": [
       "{1: {('Карандаш',): 9,\n",
       "  ('Крем',): 10,\n",
       "  ('Праймер',): 7,\n",
       "  ('Bb-крем',): 9,\n",
       "  ('Лайнер',): 9,\n",
       "  ('Тушь',): 11,\n",
       "  ('Матовая помада',): 7,\n",
       "  ('Блеск',): 10,\n",
       "  ('Подводка',): 9,\n",
       "  ('Тени',): 8,\n",
       "  ('Гель',): 8,\n",
       "  ('Помада',): 13},\n",
       " 2: {('Крем', 'Праймер'): 6,\n",
       "  ('Bb-крем', 'Лайнер'): 5,\n",
       "  ('Карандаш', 'Лайнер'): 5,\n",
       "  ('Лайнер', 'Тушь'): 5,\n",
       "  ('Bb-крем', 'Помада'): 5,\n",
       "  ('Лайнер', 'Помада'): 5,\n",
       "  ('Блеск', 'Помада'): 6}}"
      ]
     },
     "execution_count": 41,
     "metadata": {},
     "output_type": "execute_result"
    }
   ],
   "source": [
    "freqItemSet"
   ]
  },
  {
   "cell_type": "code",
   "execution_count": 7,
   "id": "0a22b2b5",
   "metadata": {},
   "outputs": [
    {
     "data": {
      "text/plain": [
       "[{Праймер} -> {Крем},\n",
       " {Крем} -> {Праймер},\n",
       " {Лайнер} -> {Bb-крем},\n",
       " {Bb-крем} -> {Лайнер},\n",
       " {Лайнер} -> {Карандаш},\n",
       " {Карандаш} -> {Лайнер},\n",
       " {Тушь} -> {Лайнер},\n",
       " {Лайнер} -> {Тушь},\n",
       " {Помада} -> {Bb-крем},\n",
       " {Bb-крем} -> {Помада},\n",
       " {Помада} -> {Лайнер},\n",
       " {Лайнер} -> {Помада},\n",
       " {Помада} -> {Блеск},\n",
       " {Блеск} -> {Помада}]"
      ]
     },
     "execution_count": 7,
     "metadata": {},
     "output_type": "execute_result"
    }
   ],
   "source": [
    "rules"
   ]
  },
  {
   "cell_type": "code",
   "execution_count": 8,
   "id": "c2e7b9ff",
   "metadata": {
    "scrolled": true
   },
   "outputs": [
    {
     "name": "stdout",
     "output_type": "stream",
     "text": [
      "{Помада} -> {Bb-крем} (conf: 0.385, supp: 0.167, lift: 1.282, conv: 1.137)\n",
      "{Помада} -> {Лайнер} (conf: 0.385, supp: 0.167, lift: 1.282, conv: 1.137)\n",
      "{Тушь} -> {Лайнер} (conf: 0.455, supp: 0.167, lift: 1.515, conv: 1.283)\n",
      "{Помада} -> {Блеск} (conf: 0.462, supp: 0.200, lift: 1.385, conv: 1.238)\n",
      "{Лайнер} -> {Bb-крем} (conf: 0.556, supp: 0.167, lift: 1.852, conv: 1.575)\n",
      "{Bb-крем} -> {Лайнер} (conf: 0.556, supp: 0.167, lift: 1.852, conv: 1.575)\n",
      "{Лайнер} -> {Карандаш} (conf: 0.556, supp: 0.167, lift: 1.852, conv: 1.575)\n",
      "{Карандаш} -> {Лайнер} (conf: 0.556, supp: 0.167, lift: 1.852, conv: 1.575)\n",
      "{Лайнер} -> {Тушь} (conf: 0.556, supp: 0.167, lift: 1.515, conv: 1.425)\n",
      "{Bb-крем} -> {Помада} (conf: 0.556, supp: 0.167, lift: 1.282, conv: 1.275)\n",
      "{Лайнер} -> {Помада} (conf: 0.556, supp: 0.167, lift: 1.282, conv: 1.275)\n",
      "{Крем} -> {Праймер} (conf: 0.600, supp: 0.200, lift: 2.571, conv: 1.917)\n",
      "{Блеск} -> {Помада} (conf: 0.600, supp: 0.200, lift: 1.385, conv: 1.417)\n",
      "{Праймер} -> {Крем} (conf: 0.857, supp: 0.200, lift: 2.571, conv: 4.667)\n"
     ]
    }
   ],
   "source": [
    "rules_rhs = filter(lambda rule: len(rule.lhs) == 1 and len(rule.rhs) == 1, rules)\n",
    "for rule in sorted(rules_rhs, key=lambda rule: rule.confidence):\n",
    "    print(rule)"
   ]
  },
  {
   "cell_type": "markdown",
   "id": "43a82e38",
   "metadata": {},
   "source": [
    "### 2.2 Вариант из репозитория"
   ]
  },
  {
   "cell_type": "code",
   "execution_count": 45,
   "id": "dc290d40",
   "metadata": {},
   "outputs": [],
   "source": [
    "freqItemSet, rules = efficient_repo()"
   ]
  },
  {
   "cell_type": "code",
   "execution_count": 46,
   "id": "e839dc7e",
   "metadata": {
    "scrolled": true
   },
   "outputs": [
    {
     "data": {
      "text/plain": [
       "{1: {('Bread',): 7633,\n",
       "  ('Jam',): 1445,\n",
       "  ('Cookies',): 2146,\n",
       "  ('Muffin',): 1135,\n",
       "  ('Pastry',): 1016,\n",
       "  ('Tea',): 1927},\n",
       " 2: {('Bread', 'Cookies'): 1537, ('Bread', 'Tea'): 1304}}"
      ]
     },
     "execution_count": 46,
     "metadata": {},
     "output_type": "execute_result"
    }
   ],
   "source": [
    "freqItemSet"
   ]
  },
  {
   "cell_type": "code",
   "execution_count": 47,
   "id": "982e79eb",
   "metadata": {
    "scrolled": true
   },
   "outputs": [
    {
     "data": {
      "text/plain": [
       "[{Cookies} -> {Bread},\n",
       " {Bread} -> {Cookies},\n",
       " {Tea} -> {Bread},\n",
       " {Bread} -> {Tea}]"
      ]
     },
     "execution_count": 47,
     "metadata": {},
     "output_type": "execute_result"
    }
   ],
   "source": [
    "rules"
   ]
  },
  {
   "cell_type": "markdown",
   "id": "f5eabfa2",
   "metadata": {},
   "source": [
    "# 3. FPGrowth"
   ]
  },
  {
   "cell_type": "markdown",
   "id": "5a35d3d6",
   "metadata": {},
   "source": [
    "### 3.1 Тестовые варианты"
   ]
  },
  {
   "cell_type": "code",
   "execution_count": 103,
   "id": "dc2603ac",
   "metadata": {},
   "outputs": [],
   "source": [
    "def fpgrowth_tests():\n",
    "    from fpgrowth_py import fpgrowth\n",
    "    return fpgrowth(transactions, minSupRatio=0.2, minConf=0.1)\n",
    "\n",
    "def fpgrowth_repo():\n",
    "    from fpgrowth_py import fpgrowth\n",
    "    return fpgrowth(bread_transactions, minSupRatio=0.1, minConf=0.1)"
   ]
  },
  {
   "cell_type": "code",
   "execution_count": 49,
   "id": "b7660e71",
   "metadata": {},
   "outputs": [],
   "source": [
    "freqItemSet, rules = fpgrowth_tests()"
   ]
  },
  {
   "cell_type": "code",
   "execution_count": 50,
   "id": "c838a7ac",
   "metadata": {},
   "outputs": [
    {
     "data": {
      "text/plain": [
       "[{'Праймер'},\n",
       " {'Крем', 'Праймер'},\n",
       " {'Матовая помада'},\n",
       " {'Тени'},\n",
       " {'Гель'},\n",
       " {'Карандаш'},\n",
       " {'Лайнер'},\n",
       " {'Bb-крем'},\n",
       " {'Подводка'},\n",
       " {'Крем'},\n",
       " {'Блеск'},\n",
       " {'Блеск', 'Помада'},\n",
       " {'Тушь'},\n",
       " {'Помада'}]"
      ]
     },
     "execution_count": 50,
     "metadata": {},
     "output_type": "execute_result"
    }
   ],
   "source": [
    "freqItemSet"
   ]
  },
  {
   "cell_type": "code",
   "execution_count": 51,
   "id": "d765bd2d",
   "metadata": {},
   "outputs": [
    {
     "data": {
      "text/plain": [
       "[[{'Крем'}, {'Праймер'}, 0.6],\n",
       " [{'Праймер'}, {'Крем'}, 0.8571428571428571],\n",
       " [{'Помада'}, {'Блеск'}, 0.46153846153846156],\n",
       " [{'Блеск'}, {'Помада'}, 0.6]]"
      ]
     },
     "execution_count": 51,
     "metadata": {},
     "output_type": "execute_result"
    }
   ],
   "source": [
    "rules"
   ]
  },
  {
   "cell_type": "markdown",
   "id": "0de2f466",
   "metadata": {},
   "source": [
    "### 3.2 Вариант из репозитория"
   ]
  },
  {
   "cell_type": "code",
   "execution_count": 52,
   "id": "c23dcbe9",
   "metadata": {},
   "outputs": [],
   "source": [
    "freqItemSet, rules = fpgrowth_repo()"
   ]
  },
  {
   "cell_type": "code",
   "execution_count": 53,
   "id": "9bfa4caf",
   "metadata": {
    "scrolled": true
   },
   "outputs": [
    {
     "data": {
      "text/plain": [
       "[{'Pastry'},\n",
       " {'Bread', 'Pastry'},\n",
       " {'Muffin'},\n",
       " {'Bread', 'Muffin'},\n",
       " {'Jam'},\n",
       " {'Bread', 'Jam'},\n",
       " {'Tea'},\n",
       " {'Bread', 'Tea'},\n",
       " {'Bread', 'Tea'},\n",
       " {'Cookies'},\n",
       " {'Bread', 'Cookies'},\n",
       " {'Bread', 'Cookies'},\n",
       " {'Bread'},\n",
       " {'Bread'},\n",
       " {'Bread'}]"
      ]
     },
     "execution_count": 53,
     "metadata": {},
     "output_type": "execute_result"
    }
   ],
   "source": [
    "freqItemSet"
   ]
  },
  {
   "cell_type": "code",
   "execution_count": 122,
   "id": "f49e08bd",
   "metadata": {
    "scrolled": true
   },
   "outputs": [
    {
     "data": {
      "text/plain": [
       "[[{'Bread'}, {'Pastry'}, 0.10428402987030001],\n",
       " [{'Pastry'}, {'Bread'}, 0.7834645669291339],\n",
       " [{'Muffin'}, {'Bread'}, 0.7524229074889868],\n",
       " [{'Bread'}, {'Muffin'}, 0.11188261496135203],\n",
       " [{'Bread'}, {'Jam'}, 0.10742827197694223],\n",
       " [{'Jam'}, {'Bread'}, 0.5674740484429066],\n",
       " [{'Bread'}, {'Tea'}, 0.17083715446089348],\n",
       " [{'Tea'}, {'Bread'}, 0.6766995329527763],\n",
       " [{'Bread'}, {'Tea'}, 0.17083715446089348],\n",
       " [{'Tea'}, {'Bread'}, 0.6766995329527763],\n",
       " [{'Bread'}, {'Cookies'}, 0.2013625049128783],\n",
       " [{'Cookies'}, {'Bread'}, 0.7162162162162162],\n",
       " [{'Bread'}, {'Cookies'}, 0.2013625049128783],\n",
       " [{'Cookies'}, {'Bread'}, 0.7162162162162162]]"
      ]
     },
     "execution_count": 122,
     "metadata": {},
     "output_type": "execute_result"
    }
   ],
   "source": [
    "rules"
   ]
  },
  {
   "cell_type": "markdown",
   "id": "b5620cf3",
   "metadata": {},
   "source": [
    "# 4. Тестирование времени работы"
   ]
  },
  {
   "cell_type": "code",
   "execution_count": 142,
   "id": "9fb999a4",
   "metadata": {},
   "outputs": [],
   "source": [
    "def test_algorithm(name, tests_count):\n",
    "    import time\n",
    "    \n",
    "    approximate_time = 0\n",
    "    for i in range(tests_count):\n",
    "        start_time = time.time()\n",
    "        _ = globals()[name]()\n",
    "        t = time.time()\n",
    "        approximate_time += round(t - start_time, 10)\n",
    "    \n",
    "    return approximate_time / tests_count"
   ]
  },
  {
   "cell_type": "code",
   "execution_count": 144,
   "id": "f697957a",
   "metadata": {},
   "outputs": [],
   "source": [
    "results = []\n",
    "tests_count = 20\n",
    "\n",
    "results.append((test_algorithm(\"apriori_tests\", 20), test_algorithm(\"efficient_tests\", 20), test_algorithm(\"fpgrowth_tests\", 20)))\n",
    "results.append((test_algorithm(\"apriori_repo\", 20), test_algorithm(\"efficient_repo\", 20), test_algorithm(\"fpgrowth_repo\", 20)))"
   ]
  },
  {
   "cell_type": "markdown",
   "id": "b5a05fb6",
   "metadata": {},
   "source": [
    "###  4.1 Тестовые данные"
   ]
  },
  {
   "cell_type": "code",
   "execution_count": 148,
   "id": "fe8ab6c9",
   "metadata": {},
   "outputs": [
    {
     "name": "stdout",
     "output_type": "stream",
     "text": [
      "Apriori:  0.001099824905\n",
      "Efficient apriori:  0.000499927995\n",
      "FPGrowth:  0.0007992029050000002\n"
     ]
    }
   ],
   "source": [
    "print(\"Apriori: \", str(results[0][0]))\n",
    "print(\"Efficient apriori: \", str(results[0][1]))\n",
    "print(\"FPGrowth: \", str(results[0][2]))"
   ]
  },
  {
   "cell_type": "code",
   "execution_count": 146,
   "id": "893f627a",
   "metadata": {},
   "outputs": [
    {
     "data": {
      "image/png": "[encoded data removed]",
      "text/plain": [
       "<Figure size 432x288 with 1 Axes>"
      ]
     },
     "metadata": {
      "needs_background": "light"
     },
     "output_type": "display_data"
    }
   ],
   "source": [
    "import matplotlib.pyplot as plt\n",
    "\n",
    "plt.plot([0, 1 ,2], results[0])\n",
    "\n",
    "plt.show()"
   ]
  },
  {
   "cell_type": "markdown",
   "id": "df5e2a28",
   "metadata": {},
   "source": [
    "### 4.2 Данные из репозитория"
   ]
  },
  {
   "cell_type": "code",
   "execution_count": 149,
   "id": "2416ee74",
   "metadata": {},
   "outputs": [
    {
     "name": "stdout",
     "output_type": "stream",
     "text": [
      "Apriori:  0.077731502055\n",
      "Efficient apriori:  0.029699039459999993\n",
      "FPGrowth:  0.14255071878999998\n"
     ]
    }
   ],
   "source": [
    "print(\"Apriori: \", str(results[1][0]))\n",
    "print(\"Efficient apriori: \", str(results[1][1]))\n",
    "print(\"FPGrowth: \", str(results[1][2]))"
   ]
  },
  {
   "cell_type": "code",
   "execution_count": 147,
   "id": "030f5bf8",
   "metadata": {},
   "outputs": [
    {
     "data": {
      "image/png": "[encoded data removed]",
      "text/plain": [
       "<Figure size 432x288 with 1 Axes>"
      ]
     },
     "metadata": {
      "needs_background": "light"
     },
     "output_type": "display_data"
    }
   ],
   "source": [
    "import matplotlib.pyplot as plt\n",
    "\n",
    "plt.plot([0, 1 ,2], results[1])\n",
    "\n",
    "plt.show()"
   ]
  },
  {
   "cell_type": "code",
   "execution_count": 130,
   "id": "6994926d",
   "metadata": {},
   "outputs": [
    {
     "name": "stdout",
     "output_type": "stream",
     "text": [
      "Looking in indexes: https://test.pypi.org/simple/\n",
      "Requirement already satisfied: PyARMViz in d:\\anaconda\\lib\\site-packages (0.1.4)\n",
      "Requirement already satisfied: networkx in d:\\anaconda\\lib\\site-packages (from PyARMViz) (2.6.2)\n",
      "Requirement already satisfied: plotly in d:\\anaconda\\lib\\site-packages (from PyARMViz) (5.3.1)\n",
      "Requirement already satisfied: numpy in d:\\anaconda\\lib\\site-packages (from PyARMViz) (1.20.3)\n",
      "Requirement already satisfied: six in d:\\anaconda\\lib\\site-packages (from plotly->PyARMViz) (1.16.0)\n",
      "Requirement already satisfied: tenacity>=6.2.0 in d:\\anaconda\\lib\\site-packages (from plotly->PyARMViz) (8.0.1)\n"
     ]
    },
    {
     "name": "stderr",
     "output_type": "stream",
     "text": [
      "WARNING: Error parsing requirements for jupyter-packaging: [Errno 2] No such file or directory: 'd:\\\\anaconda\\\\lib\\\\site-packages\\\\jupyter_packaging-0.7.12.dist-info\\\\METADATA'\n"
     ]
    }
   ],
   "source": [
    "import sys\n",
    "!{sys.executable} -m pip install --index-url https://test.pypi.org/simple/ PyARMViz"
   ]
  }
 ],
 "metadata": {
  "kernelspec": {
   "display_name": "Python 3 (ipykernel)",
   "language": "python",
   "name": "python3"
  },
  "language_info": {
   "codemirror_mode": {
    "name": "ipython",
    "version": 3
   },
   "file_extension": ".py",
   "mimetype": "text/x-python",
   "name": "python",
   "nbconvert_exporter": "python",
   "pygments_lexer": "ipython3",
   "version": "3.8.11"
  }
 },
 "nbformat": 4,
 "nbformat_minor": 5
}

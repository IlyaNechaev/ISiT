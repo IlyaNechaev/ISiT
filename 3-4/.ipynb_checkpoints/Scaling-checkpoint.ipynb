{
 "cells": [
  {
   "cell_type": "markdown",
   "id": "b2ffdf35",
   "metadata": {},
   "source": [
    "# 1. Масштабирование и уменьшение размерности"
   ]
  },
  {
   "cell_type": "code",
   "execution_count": 1,
   "id": "383c54ea",
   "metadata": {},
   "outputs": [],
   "source": [
    "from sklearn import preprocessing\n",
    "import csv\n",
    "import pandas as pd\n",
    "import numpy as np"
   ]
  },
  {
   "cell_type": "code",
   "execution_count": 2,
   "id": "c0b89852",
   "metadata": {},
   "outputs": [
    {
     "data": {
      "text/html": [
       "<div>\n",
       "<style scoped>\n",
       "    .dataframe tbody tr th:only-of-type {\n",
       "        vertical-align: middle;\n",
       "    }\n",
       "\n",
       "    .dataframe tbody tr th {\n",
       "        vertical-align: top;\n",
       "    }\n",
       "\n",
       "    .dataframe thead th {\n",
       "        text-align: right;\n",
       "    }\n",
       "</style>\n",
       "<table border=\"1\" class=\"dataframe\">\n",
       "  <thead>\n",
       "    <tr style=\"text-align: right;\">\n",
       "      <th></th>\n",
       "      <th>Name</th>\n",
       "      <th>landmass</th>\n",
       "      <th>zone</th>\n",
       "      <th>area</th>\n",
       "      <th>population</th>\n",
       "      <th>language</th>\n",
       "      <th>religion</th>\n",
       "      <th>bars</th>\n",
       "      <th>stripes</th>\n",
       "      <th>colours</th>\n",
       "      <th>...</th>\n",
       "      <th>saltires</th>\n",
       "      <th>quarters</th>\n",
       "      <th>sunstars</th>\n",
       "      <th>crescent</th>\n",
       "      <th>triangle</th>\n",
       "      <th>icon</th>\n",
       "      <th>animate</th>\n",
       "      <th>text</th>\n",
       "      <th>topleft</th>\n",
       "      <th>botright</th>\n",
       "    </tr>\n",
       "  </thead>\n",
       "  <tbody>\n",
       "    <tr>\n",
       "      <th>0</th>\n",
       "      <td>Afghanistan</td>\n",
       "      <td>5</td>\n",
       "      <td>1</td>\n",
       "      <td>648</td>\n",
       "      <td>16</td>\n",
       "      <td>10</td>\n",
       "      <td>2</td>\n",
       "      <td>0</td>\n",
       "      <td>3</td>\n",
       "      <td>5</td>\n",
       "      <td>...</td>\n",
       "      <td>0</td>\n",
       "      <td>0</td>\n",
       "      <td>1</td>\n",
       "      <td>0</td>\n",
       "      <td>0</td>\n",
       "      <td>1</td>\n",
       "      <td>0</td>\n",
       "      <td>0</td>\n",
       "      <td>black</td>\n",
       "      <td>green</td>\n",
       "    </tr>\n",
       "    <tr>\n",
       "      <th>1</th>\n",
       "      <td>Albania</td>\n",
       "      <td>3</td>\n",
       "      <td>1</td>\n",
       "      <td>29</td>\n",
       "      <td>3</td>\n",
       "      <td>6</td>\n",
       "      <td>6</td>\n",
       "      <td>0</td>\n",
       "      <td>0</td>\n",
       "      <td>3</td>\n",
       "      <td>...</td>\n",
       "      <td>0</td>\n",
       "      <td>0</td>\n",
       "      <td>1</td>\n",
       "      <td>0</td>\n",
       "      <td>0</td>\n",
       "      <td>0</td>\n",
       "      <td>1</td>\n",
       "      <td>0</td>\n",
       "      <td>red</td>\n",
       "      <td>red</td>\n",
       "    </tr>\n",
       "    <tr>\n",
       "      <th>2</th>\n",
       "      <td>Algeria</td>\n",
       "      <td>4</td>\n",
       "      <td>1</td>\n",
       "      <td>2388</td>\n",
       "      <td>20</td>\n",
       "      <td>8</td>\n",
       "      <td>2</td>\n",
       "      <td>2</td>\n",
       "      <td>0</td>\n",
       "      <td>3</td>\n",
       "      <td>...</td>\n",
       "      <td>0</td>\n",
       "      <td>0</td>\n",
       "      <td>1</td>\n",
       "      <td>1</td>\n",
       "      <td>0</td>\n",
       "      <td>0</td>\n",
       "      <td>0</td>\n",
       "      <td>0</td>\n",
       "      <td>green</td>\n",
       "      <td>white</td>\n",
       "    </tr>\n",
       "    <tr>\n",
       "      <th>3</th>\n",
       "      <td>American-Samoa</td>\n",
       "      <td>6</td>\n",
       "      <td>3</td>\n",
       "      <td>0</td>\n",
       "      <td>0</td>\n",
       "      <td>1</td>\n",
       "      <td>1</td>\n",
       "      <td>0</td>\n",
       "      <td>0</td>\n",
       "      <td>5</td>\n",
       "      <td>...</td>\n",
       "      <td>0</td>\n",
       "      <td>0</td>\n",
       "      <td>0</td>\n",
       "      <td>0</td>\n",
       "      <td>1</td>\n",
       "      <td>1</td>\n",
       "      <td>1</td>\n",
       "      <td>0</td>\n",
       "      <td>blue</td>\n",
       "      <td>red</td>\n",
       "    </tr>\n",
       "    <tr>\n",
       "      <th>4</th>\n",
       "      <td>Andorra</td>\n",
       "      <td>3</td>\n",
       "      <td>1</td>\n",
       "      <td>0</td>\n",
       "      <td>0</td>\n",
       "      <td>6</td>\n",
       "      <td>0</td>\n",
       "      <td>3</td>\n",
       "      <td>0</td>\n",
       "      <td>3</td>\n",
       "      <td>...</td>\n",
       "      <td>0</td>\n",
       "      <td>0</td>\n",
       "      <td>0</td>\n",
       "      <td>0</td>\n",
       "      <td>0</td>\n",
       "      <td>0</td>\n",
       "      <td>0</td>\n",
       "      <td>0</td>\n",
       "      <td>blue</td>\n",
       "      <td>red</td>\n",
       "    </tr>\n",
       "    <tr>\n",
       "      <th>...</th>\n",
       "      <td>...</td>\n",
       "      <td>...</td>\n",
       "      <td>...</td>\n",
       "      <td>...</td>\n",
       "      <td>...</td>\n",
       "      <td>...</td>\n",
       "      <td>...</td>\n",
       "      <td>...</td>\n",
       "      <td>...</td>\n",
       "      <td>...</td>\n",
       "      <td>...</td>\n",
       "      <td>...</td>\n",
       "      <td>...</td>\n",
       "      <td>...</td>\n",
       "      <td>...</td>\n",
       "      <td>...</td>\n",
       "      <td>...</td>\n",
       "      <td>...</td>\n",
       "      <td>...</td>\n",
       "      <td>...</td>\n",
       "      <td>...</td>\n",
       "    </tr>\n",
       "    <tr>\n",
       "      <th>189</th>\n",
       "      <td>Western-Samoa</td>\n",
       "      <td>6</td>\n",
       "      <td>3</td>\n",
       "      <td>3</td>\n",
       "      <td>0</td>\n",
       "      <td>1</td>\n",
       "      <td>1</td>\n",
       "      <td>0</td>\n",
       "      <td>0</td>\n",
       "      <td>3</td>\n",
       "      <td>...</td>\n",
       "      <td>0</td>\n",
       "      <td>1</td>\n",
       "      <td>5</td>\n",
       "      <td>0</td>\n",
       "      <td>0</td>\n",
       "      <td>0</td>\n",
       "      <td>0</td>\n",
       "      <td>0</td>\n",
       "      <td>blue</td>\n",
       "      <td>red</td>\n",
       "    </tr>\n",
       "    <tr>\n",
       "      <th>190</th>\n",
       "      <td>Yugoslavia</td>\n",
       "      <td>3</td>\n",
       "      <td>1</td>\n",
       "      <td>256</td>\n",
       "      <td>22</td>\n",
       "      <td>6</td>\n",
       "      <td>6</td>\n",
       "      <td>0</td>\n",
       "      <td>3</td>\n",
       "      <td>4</td>\n",
       "      <td>...</td>\n",
       "      <td>0</td>\n",
       "      <td>0</td>\n",
       "      <td>1</td>\n",
       "      <td>0</td>\n",
       "      <td>0</td>\n",
       "      <td>0</td>\n",
       "      <td>0</td>\n",
       "      <td>0</td>\n",
       "      <td>blue</td>\n",
       "      <td>red</td>\n",
       "    </tr>\n",
       "    <tr>\n",
       "      <th>191</th>\n",
       "      <td>Zaire</td>\n",
       "      <td>4</td>\n",
       "      <td>2</td>\n",
       "      <td>905</td>\n",
       "      <td>28</td>\n",
       "      <td>10</td>\n",
       "      <td>5</td>\n",
       "      <td>0</td>\n",
       "      <td>0</td>\n",
       "      <td>4</td>\n",
       "      <td>...</td>\n",
       "      <td>0</td>\n",
       "      <td>0</td>\n",
       "      <td>0</td>\n",
       "      <td>0</td>\n",
       "      <td>0</td>\n",
       "      <td>1</td>\n",
       "      <td>1</td>\n",
       "      <td>0</td>\n",
       "      <td>green</td>\n",
       "      <td>green</td>\n",
       "    </tr>\n",
       "    <tr>\n",
       "      <th>192</th>\n",
       "      <td>Zambia</td>\n",
       "      <td>4</td>\n",
       "      <td>2</td>\n",
       "      <td>753</td>\n",
       "      <td>6</td>\n",
       "      <td>10</td>\n",
       "      <td>5</td>\n",
       "      <td>3</td>\n",
       "      <td>0</td>\n",
       "      <td>4</td>\n",
       "      <td>...</td>\n",
       "      <td>0</td>\n",
       "      <td>0</td>\n",
       "      <td>0</td>\n",
       "      <td>0</td>\n",
       "      <td>0</td>\n",
       "      <td>0</td>\n",
       "      <td>1</td>\n",
       "      <td>0</td>\n",
       "      <td>green</td>\n",
       "      <td>brown</td>\n",
       "    </tr>\n",
       "    <tr>\n",
       "      <th>193</th>\n",
       "      <td>Zimbabwe</td>\n",
       "      <td>4</td>\n",
       "      <td>2</td>\n",
       "      <td>391</td>\n",
       "      <td>8</td>\n",
       "      <td>10</td>\n",
       "      <td>5</td>\n",
       "      <td>0</td>\n",
       "      <td>7</td>\n",
       "      <td>5</td>\n",
       "      <td>...</td>\n",
       "      <td>0</td>\n",
       "      <td>0</td>\n",
       "      <td>1</td>\n",
       "      <td>0</td>\n",
       "      <td>1</td>\n",
       "      <td>1</td>\n",
       "      <td>1</td>\n",
       "      <td>0</td>\n",
       "      <td>green</td>\n",
       "      <td>green</td>\n",
       "    </tr>\n",
       "  </tbody>\n",
       "</table>\n",
       "<p>194 rows × 30 columns</p>\n",
       "</div>"
      ],
      "text/plain": [
       "               Name  landmass  zone  area  population  language  religion  \\\n",
       "0       Afghanistan         5     1   648          16        10         2   \n",
       "1           Albania         3     1    29           3         6         6   \n",
       "2           Algeria         4     1  2388          20         8         2   \n",
       "3    American-Samoa         6     3     0           0         1         1   \n",
       "4           Andorra         3     1     0           0         6         0   \n",
       "..              ...       ...   ...   ...         ...       ...       ...   \n",
       "189   Western-Samoa         6     3     3           0         1         1   \n",
       "190      Yugoslavia         3     1   256          22         6         6   \n",
       "191           Zaire         4     2   905          28        10         5   \n",
       "192          Zambia         4     2   753           6        10         5   \n",
       "193        Zimbabwe         4     2   391           8        10         5   \n",
       "\n",
       "     bars  stripes  colours  ...  saltires  quarters  sunstars  crescent  \\\n",
       "0       0        3        5  ...         0         0         1         0   \n",
       "1       0        0        3  ...         0         0         1         0   \n",
       "2       2        0        3  ...         0         0         1         1   \n",
       "3       0        0        5  ...         0         0         0         0   \n",
       "4       3        0        3  ...         0         0         0         0   \n",
       "..    ...      ...      ...  ...       ...       ...       ...       ...   \n",
       "189     0        0        3  ...         0         1         5         0   \n",
       "190     0        3        4  ...         0         0         1         0   \n",
       "191     0        0        4  ...         0         0         0         0   \n",
       "192     3        0        4  ...         0         0         0         0   \n",
       "193     0        7        5  ...         0         0         1         0   \n",
       "\n",
       "     triangle  icon  animate text  topleft  botright  \n",
       "0           0     1        0    0    black     green  \n",
       "1           0     0        1    0      red       red  \n",
       "2           0     0        0    0    green     white  \n",
       "3           1     1        1    0     blue       red  \n",
       "4           0     0        0    0     blue       red  \n",
       "..        ...   ...      ...  ...      ...       ...  \n",
       "189         0     0        0    0     blue       red  \n",
       "190         0     0        0    0     blue       red  \n",
       "191         0     1        1    0    green     green  \n",
       "192         0     0        1    0    green     brown  \n",
       "193         1     1        1    0    green     green  \n",
       "\n",
       "[194 rows x 30 columns]"
      ]
     },
     "execution_count": 2,
     "metadata": {},
     "output_type": "execute_result"
    }
   ],
   "source": [
    "data = pd.read_csv(\"flag.data\")\n",
    "data"
   ]
  },
  {
   "cell_type": "code",
   "execution_count": 9,
   "id": "fb6059da",
   "metadata": {},
   "outputs": [],
   "source": [
    "dataset_columns = [\n",
    "    \"landmass\", \"zone\", \"area\", \"population\", \"language\", \"religion\", \"bars\", \n",
    "    \"stripes\", \"colours\", \"red\", \"green\", \"blue\", \"gold\", \"white\", \"black\", \"orange\", \n",
    "    \"circles\", \"crosses\", \"saltires\", \"quarters\", \"sunstars\", \n",
    "    \"crescent\", \"triangle\", \"icon\", \"animate\", \"text\"\n",
    "]\n",
    "category_data_columns = [\n",
    "    \"mainhue\", \"topleft\", \"botright\"\n",
    "]\n",
    "\n",
    "dataset = data[dataset_columns]\n",
    "\n",
    "category_data = data[category_data_columns]"
   ]
  },
  {
   "cell_type": "code",
   "execution_count": 10,
   "id": "202a1aa9",
   "metadata": {},
   "outputs": [],
   "source": [
    "# Кодирование категориальных признаков\n",
    "enc = preprocessing.OneHotEncoder()\n",
    "enc.fit(category_data)\n",
    "\n",
    "category_data = enc.transform(category_data).toarray().tolist()\n",
    "category_data = pd.DataFrame(category_data)\n",
    "\n",
    "dataset = pd.concat([dataset, category_data], axis=1, join='inner')"
   ]
  },
  {
   "cell_type": "markdown",
   "id": "87fb2c4e",
   "metadata": {},
   "source": [
    "### 1.1 Standard Scaler"
   ]
  },
  {
   "cell_type": "code",
   "execution_count": 11,
   "id": "dda1e0ff",
   "metadata": {},
   "outputs": [
    {
     "data": {
      "text/plain": [
       "array([[ 0.92177276, -0.92830282, -0.02403629, ..., -0.07198158,\n",
       "        -0.74296702, -0.3099116 ],\n",
       "       [-0.36937464, -0.92830282, -0.30990555, ..., -0.07198158,\n",
       "         1.34595476, -0.3099116 ],\n",
       "       [ 0.27619906, -0.92830282,  0.77953804, ..., -0.07198158,\n",
       "        -0.74296702,  3.22672662],\n",
       "       ...,\n",
       "       [ 0.27619906, -0.16195921,  0.09465256, ..., -0.07198158,\n",
       "        -0.74296702, -0.3099116 ],\n",
       "       [ 0.27619906, -0.16195921,  0.02445526, ..., -0.07198158,\n",
       "        -0.74296702, -0.3099116 ],\n",
       "       [ 0.27619906, -0.16195921, -0.14272514, ..., -0.07198158,\n",
       "        -0.74296702, -0.3099116 ]])"
      ]
     },
     "execution_count": 11,
     "metadata": {},
     "output_type": "execute_result"
    }
   ],
   "source": [
    "scaler = preprocessing.StandardScaler().fit(dataset)\n",
    "\n",
    "dataset_standard = scaler.transform(dataset)\n",
    "dataset_standard"
   ]
  },
  {
   "cell_type": "code",
   "execution_count": 12,
   "id": "afcf4f52",
   "metadata": {},
   "outputs": [
    {
     "data": {
      "text/plain": [
       "array([3.57216495e+00, 2.21134021e+00, 7.00046392e+02, 2.32680412e+01,\n",
       "       5.34020619e+00, 2.19072165e+00, 4.53608247e-01, 1.55154639e+00,\n",
       "       3.46391753e+00, 7.88659794e-01, 4.69072165e-01, 5.10309278e-01,\n",
       "       4.69072165e-01, 7.52577320e-01, 2.68041237e-01, 1.34020619e-01,\n",
       "       1.70103093e-01, 1.49484536e-01, 9.27835052e-02, 1.49484536e-01,\n",
       "       1.38659794e+00, 5.67010309e-02, 1.39175258e-01, 2.52577320e-01,\n",
       "       2.01030928e-01, 8.24742268e-02, 2.57731959e-02, 2.06185567e-01,\n",
       "       1.03092784e-02, 9.79381443e-02, 1.59793814e-01, 2.06185567e-02,\n",
       "       3.65979381e-01, 1.13402062e-01, 6.18556701e-02, 2.21649485e-01,\n",
       "       3.09278351e-02, 1.64948454e-01, 2.06185567e-02, 2.88659794e-01,\n",
       "       2.11340206e-01, 4.63917526e-02, 2.42268041e-01, 1.03092784e-02,\n",
       "       4.63917526e-02, 2.06185567e-01, 5.15463918e-03, 3.55670103e-01,\n",
       "       8.76288660e-02])"
      ]
     },
     "execution_count": 12,
     "metadata": {},
     "output_type": "execute_result"
    }
   ],
   "source": [
    "scaler.mean_"
   ]
  },
  {
   "cell_type": "code",
   "execution_count": 18,
   "id": "cacb91b3",
   "metadata": {},
   "outputs": [],
   "source": [
    "# Функция отрисовки набора данных в двумерной плоскости\n",
    "def create_plot(data, datase_2d):\n",
    "    import matplotlib.pyplot as plt\n",
    "    labels = data[\"zone\"].values\n",
    "\n",
    "    plt.figure(figsize=(6,5))\n",
    "    plt.title(\"Сходство флагов по зонам\")\n",
    "    plt.scatter(dataset_2d[labels==1,0], dataset_2d[labels==1,1], c='b', label=\"Северо-восток\", alpha=0.3)\n",
    "    plt.scatter(dataset_2d[labels==2,0], dataset_2d[labels==2,1], c='r', label=\"Юго-восток\", alpha=0.3)\n",
    "    plt.scatter(dataset_2d[labels==3,0], dataset_2d[labels==3,1], c='g', label=\"Юго-запад\", alpha=0.3)\n",
    "    plt.scatter(dataset_2d[labels==4,0], dataset_2d[labels==4,1], c='y', label=\"Северо-запад\", alpha=0.5)\n",
    "    plt.legend()\n",
    "    plt.show()"
   ]
  },
  {
   "cell_type": "markdown",
   "id": "d16e5281",
   "metadata": {},
   "source": [
    "### T-SNE"
   ]
  },
  {
   "cell_type": "code",
   "execution_count": 19,
   "id": "b75a4f81",
   "metadata": {
    "scrolled": false
   },
   "outputs": [
    {
     "data": {
      "image/png": "[encoded data removed]",
      "text/plain": [
       "<Figure size 432x360 with 1 Axes>"
      ]
     },
     "metadata": {
      "needs_background": "light"
     },
     "output_type": "display_data"
    }
   ],
   "source": [
    "from sklearn.manifold import TSNE\n",
    "\n",
    "tsne = TSNE(n_components=2, random_state=0)\n",
    "\n",
    "dataset_2d = tsne.fit_transform(dataset_standard)\n",
    "\n",
    "create_plot(data, dataset_2d)"
   ]
  },
  {
   "cell_type": "markdown",
   "id": "d5fc0bf9",
   "metadata": {},
   "source": [
    "### UMAP"
   ]
  },
  {
   "cell_type": "code",
   "execution_count": 21,
   "id": "14859aa5",
   "metadata": {
    "scrolled": true
   },
   "outputs": [
    {
     "data": {
      "image/png": "[encoded data removed]",
      "text/plain": [
       "<Figure size 432x360 with 1 Axes>"
      ]
     },
     "metadata": {
      "needs_background": "light"
     },
     "output_type": "display_data"
    }
   ],
   "source": [
    "import umap\n",
    "\n",
    "reducer = umap.UMAP()\n",
    "\n",
    "dataset_2d = reducer.fit_transform(dataset_standard)\n",
    "\n",
    "create_plot(data, dataset_2d)"
   ]
  },
  {
   "cell_type": "markdown",
   "id": "01a6ae87",
   "metadata": {},
   "source": [
    "### 1.2 MinMax Scaler"
   ]
  },
  {
   "cell_type": "code",
   "execution_count": 24,
   "id": "2802527b",
   "metadata": {},
   "outputs": [
    {
     "data": {
      "text/plain": [
       "array([[0.8       , 0.        , 0.02892599, ..., 0.        , 0.        ,\n",
       "        0.        ],\n",
       "       [0.4       , 0.        , 0.00129453, ..., 0.        , 1.        ,\n",
       "        0.        ],\n",
       "       [0.6       , 0.        , 0.10659763, ..., 0.        , 0.        ,\n",
       "        1.        ],\n",
       "       ...,\n",
       "       [0.6       , 0.33333333, 0.04039818, ..., 0.        , 0.        ,\n",
       "        0.        ],\n",
       "       [0.6       , 0.33333333, 0.03361307, ..., 0.        , 0.        ,\n",
       "        0.        ],\n",
       "       [0.6       , 0.33333333, 0.0174538 , ..., 0.        , 0.        ,\n",
       "        0.        ]])"
      ]
     },
     "execution_count": 24,
     "metadata": {},
     "output_type": "execute_result"
    }
   ],
   "source": [
    "min_max_scaler = preprocessing.MinMaxScaler()\n",
    "dataset_minmax = min_max_scaler.fit_transform(dataset)\n",
    "dataset_minmax"
   ]
  },
  {
   "cell_type": "code",
   "execution_count": 25,
   "id": "ba3cee35",
   "metadata": {},
   "outputs": [
    {
     "data": {
      "text/plain": [
       "0.19837044224653796"
      ]
     },
     "execution_count": 25,
     "metadata": {},
     "output_type": "execute_result"
    }
   ],
   "source": [
    "dataset_minmax.mean()"
   ]
  },
  {
   "cell_type": "markdown",
   "id": "760bbd6f",
   "metadata": {},
   "source": [
    "### T-SNE"
   ]
  },
  {
   "cell_type": "code",
   "execution_count": 27,
   "id": "a2cc0ccc",
   "metadata": {
    "scrolled": true
   },
   "outputs": [
    {
     "data": {
      "image/png": "[encoded data removed]",
      "text/plain": [
       "<Figure size 432x360 with 1 Axes>"
      ]
     },
     "metadata": {
      "needs_background": "light"
     },
     "output_type": "display_data"
    }
   ],
   "source": [
    "from sklearn.manifold import TSNE\n",
    "\n",
    "tsne = TSNE(n_components=2, random_state=0)\n",
    "\n",
    "dataset_2d = tsne.fit_transform(dataset_minmax)\n",
    "\n",
    "create_plot(data, dataset_2d)"
   ]
  },
  {
   "cell_type": "markdown",
   "id": "a0ec045d",
   "metadata": {},
   "source": [
    "### UMAP"
   ]
  },
  {
   "cell_type": "code",
   "execution_count": 28,
   "id": "826d6479",
   "metadata": {
    "scrolled": true
   },
   "outputs": [
    {
     "data": {
      "image/png": "[encoded data removed]",
      "text/plain": [
       "<Figure size 432x360 with 1 Axes>"
      ]
     },
     "metadata": {
      "needs_background": "light"
     },
     "output_type": "display_data"
    }
   ],
   "source": [
    "import umap\n",
    "\n",
    "reducer = umap.UMAP()\n",
    "\n",
    "dataset_2d = reducer.fit_transform(dataset_minmax)\n",
    "\n",
    "create_plot(data, dataset_2d)"
   ]
  },
  {
   "cell_type": "markdown",
   "id": "404147b2",
   "metadata": {},
   "source": [
    "### 1.3 Robust Scaler"
   ]
  },
  {
   "cell_type": "code",
   "execution_count": 31,
   "id": "f3575b9a",
   "metadata": {},
   "outputs": [
    {
     "data": {
      "text/plain": [
       "array([[ 0.5       , -0.33333333,  1.16170903, ...,  0.        ,\n",
       "         0.        ,  0.        ],\n",
       "       [-0.5       , -0.33333333, -0.17739319, ...,  0.        ,\n",
       "         1.        ,  0.        ],\n",
       "       [ 0.        , -0.33333333,  4.9259059 , ...,  0.        ,\n",
       "         0.        ,  1.        ],\n",
       "       ...,\n",
       "       [ 0.        ,  0.        ,  1.71768524, ...,  0.        ,\n",
       "         0.        ,  0.        ],\n",
       "       [ 0.        ,  0.        ,  1.38885884, ...,  0.        ,\n",
       "         0.        ,  0.        ],\n",
       "       [ 0.        ,  0.        ,  0.60573283, ...,  0.        ,\n",
       "         0.        ,  0.        ]])"
      ]
     },
     "execution_count": 31,
     "metadata": {},
     "output_type": "execute_result"
    }
   ],
   "source": [
    "transformer = preprocessing.RobustScaler().fit(dataset)\n",
    "\n",
    "dataset_robust = transformer.transform(dataset)\n",
    "dataset_robust"
   ]
  },
  {
   "cell_type": "code",
   "execution_count": 32,
   "id": "85b54daa",
   "metadata": {
    "scrolled": true
   },
   "outputs": [
    {
     "data": {
      "text/plain": [
       "0.21226197451104847"
      ]
     },
     "execution_count": 32,
     "metadata": {},
     "output_type": "execute_result"
    }
   ],
   "source": [
    "dataset_robust.mean()"
   ]
  },
  {
   "cell_type": "markdown",
   "id": "0ca97e28",
   "metadata": {},
   "source": [
    "### T-SNE"
   ]
  },
  {
   "cell_type": "code",
   "execution_count": 33,
   "id": "1ed6cdc2",
   "metadata": {
    "scrolled": false
   },
   "outputs": [
    {
     "data": {
      "image/png": "[encoded data removed]",
      "text/plain": [
       "<Figure size 432x360 with 1 Axes>"
      ]
     },
     "metadata": {
      "needs_background": "light"
     },
     "output_type": "display_data"
    }
   ],
   "source": [
    "from sklearn.manifold import TSNE\n",
    "\n",
    "tsne = TSNE(n_components=2, random_state=0)\n",
    "\n",
    "dataset_2d = tsne.fit_transform(dataset_robust)\n",
    "\n",
    "create_plot(data, dataset_2d)"
   ]
  },
  {
   "cell_type": "markdown",
   "id": "fcc4065f",
   "metadata": {},
   "source": [
    "### UMAP"
   ]
  },
  {
   "cell_type": "code",
   "execution_count": 34,
   "id": "b63ff6e8",
   "metadata": {
    "scrolled": true
   },
   "outputs": [
    {
     "data": {
      "image/png": "[encoded data removed]",
      "text/plain": [
       "<Figure size 432x360 with 1 Axes>"
      ]
     },
     "metadata": {
      "needs_background": "light"
     },
     "output_type": "display_data"
    }
   ],
   "source": [
    "import umap\n",
    "\n",
    "reducer = umap.UMAP()\n",
    "\n",
    "dataset_2d = reducer.fit_transform(dataset_robust)\n",
    "\n",
    "create_plot(data, dataset_2d)"
   ]
  },
  {
   "cell_type": "markdown",
   "id": "98dc5dc3",
   "metadata": {},
   "source": [
    "# 2. Сравнение результатов масштабирования"
   ]
  },
  {
   "cell_type": "code",
   "execution_count": 35,
   "id": "b129be0a",
   "metadata": {},
   "outputs": [],
   "source": [
    "f = reducer.fit_transform(dataset)"
   ]
  },
  {
   "cell_type": "code",
   "execution_count": 38,
   "id": "01399136",
   "metadata": {},
   "outputs": [
    {
     "data": {
      "text/plain": [
       "0      5\n",
       "1      3\n",
       "2      3\n",
       "3      5\n",
       "4      3\n",
       "      ..\n",
       "189    3\n",
       "190    4\n",
       "191    4\n",
       "192    4\n",
       "193    5\n",
       "Name: colours, Length: 194, dtype: int64"
      ]
     },
     "execution_count": 38,
     "metadata": {},
     "output_type": "execute_result"
    }
   ],
   "source": [
    "data[\"colours\"]"
   ]
  },
  {
   "cell_type": "code",
   "execution_count": null,
   "id": "a922f76e",
   "metadata": {},
   "outputs": [],
   "source": [
    "fig, (ax1, ax2, ax3, ax4) = plt.subplots(ncols = 4, figsize =(20, 5))\n",
    "\n",
    "ax1.set_title('Before Scaling')\n",
    "sns.kdeplot(reducer.fit_transform(dataset)[0], ax = ax1, color ='r')\n",
    "sns.kdeplot(reducer.fit_transform(dataset)[0], ax = ax1, color ='b')\n",
    "\n",
    "ax2.set_title('After Robust Scaling') \n",
    "sns.kdeplot(robust_df['x1'], ax = ax2, color ='red')\n",
    "sns.kdeplot(robust_df['x2'], ax = ax2, color ='blue')\n",
    "\n",
    "ax3.set_title('After Standard Scaling') \n",
    "sns.kdeplot(standard_df['x1'], ax = ax3, color ='black')\n",
    "sns.kdeplot(standard_df['x2'], ax = ax3, color ='g')\n",
    "\n",
    "ax4.set_title('After Min-Max Scaling') \n",
    "sns.kdeplot(minmax_df['x1'], ax = ax4, color ='black')\n",
    "sns.kdeplot(minmax_df['x2'], ax = ax4, color ='g')\n",
    "plt.show()"
   ]
  }
 ],
 "metadata": {
  "kernelspec": {
   "display_name": "Python 3 (ipykernel)",
   "language": "python",
   "name": "python3"
  },
  "language_info": {
   "codemirror_mode": {
    "name": "ipython",
    "version": 3
   },
   "file_extension": ".py",
   "mimetype": "text/x-python",
   "name": "python",
   "nbconvert_exporter": "python",
   "pygments_lexer": "ipython3",
   "version": "3.8.11"
  }
 },
 "nbformat": 4,
 "nbformat_minor": 5
}

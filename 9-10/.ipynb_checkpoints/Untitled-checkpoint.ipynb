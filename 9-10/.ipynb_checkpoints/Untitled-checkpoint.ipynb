{
 "cells": [
  {
   "cell_type": "code",
   "execution_count": 1,
   "id": "5a0edaf2",
   "metadata": {},
   "outputs": [],
   "source": [
    "import numpy as np\n",
    "import math\n",
    "from geneticalgorithm import geneticalgorithm as ga"
   ]
  },
  {
   "cell_type": "code",
   "execution_count": 2,
   "id": "348ee4e2",
   "metadata": {},
   "outputs": [],
   "source": [
    "# Функция Растригина\n",
    "def rastrigin_function(X):\n",
    "\n",
    "    dim=len(X)         \n",
    "\n",
    "    OF=0\n",
    "    for i in range (0,dim):\n",
    "        OF+=(X[i]**2)-10*math.cos(2*math.pi*X[i])+10\n",
    "\n",
    "    return OF"
   ]
  },
  {
   "cell_type": "code",
   "execution_count": 3,
   "id": "b7004c3a",
   "metadata": {},
   "outputs": [],
   "source": [
    "from statistics import mean\n",
    "from statistics import variance\n",
    "\n",
    "def f1(X):\n",
    "    res = rastrigin_function(X)\n",
    "    return variance(res)"
   ]
  },
  {
   "cell_type": "code",
   "execution_count": 16,
   "id": "2d2751b4",
   "metadata": {
    "scrolled": true
   },
   "outputs": [
    {
     "name": "stdout",
     "output_type": "stream",
     "text": [
      " The best solution found:                                                                           \n",
      " [-1.15020964e-04  3.56652962e-05]\n",
      "\n",
      " Objective function:\n",
      " 2.8770493027963084e-06\n"
     ]
    },
    {
     "data": {
      "image/png": "[encoded data removed]",
      "text/plain": [
       "<Figure size 432x288 with 1 Axes>"
      ]
     },
     "metadata": {
      "needs_background": "light"
     },
     "output_type": "display_data"
    }
   ],
   "source": [
    "varbound=np.array([[-5.12,5.12]]*2)\n",
    "\n",
    "algorithm_param = {'max_num_iteration': 150,\n",
    "                   'population_size': 100,\n",
    "                   'mutation_probability': 0.1,\n",
    "                   'elit_ratio': 0.01,\n",
    "                   'crossover_probability': 0.5,\n",
    "                   'parents_portion': 0.3,\n",
    "                   'crossover_type': 'uniform',\n",
    "                   'max_iteration_without_improv': None}\n",
    "\n",
    "model=ga(function=rastrigin_function,\n",
    "         dimension=2,\n",
    "         variable_type='real',\n",
    "         variable_boundaries=varbound,\n",
    "         progress_bar=True, \n",
    "         algorithm_parameters=algorithm_param)\n",
    "\n",
    "model.run()"
   ]
  },
  {
   "cell_type": "code",
   "execution_count": 17,
   "id": "269d56fc",
   "metadata": {},
   "outputs": [
    {
     "name": "stdout",
     "output_type": "stream",
     "text": [
      "Дисперсия:  0.11331061356041146\n"
     ]
    }
   ],
   "source": [
    "print(\"Дисперсия: \", variance(model.report))"
   ]
  },
  {
   "cell_type": "code",
   "execution_count": 5,
   "id": "e45baa2b",
   "metadata": {},
   "outputs": [
    {
     "name": "stdout",
     "output_type": "stream",
     "text": [
      " The best solution found:                                                                           \n",
      " [0.10680453 0.00117036 0.034513  ]\n",
      "\n",
      " Objective function:\n",
      " 0.14248789165211662\n"
     ]
    },
    {
     "data": {
      "image/png": "[encoded data removed]",
      "text/plain": [
       "<Figure size 432x288 with 1 Axes>"
      ]
     },
     "metadata": {
      "needs_background": "light"
     },
     "output_type": "display_data"
    }
   ],
   "source": [
    "import numpy as np\n",
    "from geneticalgorithm import geneticalgorithm as ga\n",
    "\n",
    "def f(X):\n",
    "    return np.sum(X)\n",
    "\n",
    "varbound=np.array([[0,10]]*3)\n",
    "\n",
    "algorithm_param = {'max_num_iteration': 150,\n",
    "                   'population_size': 100,\n",
    "                   'mutation_probability': 0.1,\n",
    "                   'elit_ratio': 0.01,\n",
    "                   'crossover_probability': 0.5,\n",
    "                   'parents_portion': 0.3,\n",
    "                   'crossover_type': 'uniform',\n",
    "                   'max_iteration_without_improv': None}\n",
    "\n",
    "model=ga(function=f,dimension=3,variable_type='real',variable_boundaries=varbound,algorithm_parameters=algorithm_param)\n",
    "\n",
    "model.run()"
   ]
  },
  {
   "cell_type": "code",
   "execution_count": 43,
   "id": "47b22660",
   "metadata": {},
   "outputs": [
    {
     "data": {
      "text/plain": [
       "[5.52698453285942,\n",
       " 5.52698453285942,\n",
       " 3.2611406190722327,\n",
       " 3.2611406190722327,\n",
       " 2.707782400071083,\n",
       " 2.707782400071083,\n",
       " 2.707782400071083,\n",
       " 1.6942957001830994,\n",
       " 1.6942957001830994,\n",
       " 1.6942957001830994,\n",
       " 1.6271886305903605,\n",
       " 1.6271886305903605,\n",
       " 1.6271886305903605,\n",
       " 1.6271886305903605,\n",
       " 1.6271886305903605,\n",
       " 1.5859257090786105,\n",
       " 1.5859257090786105,\n",
       " 0.8060677709099762,\n",
       " 0.8060677709099762,\n",
       " 0.8060677709099762,\n",
       " 0.8060677709099762,\n",
       " 0.8060677709099762,\n",
       " 0.8060677709099762,\n",
       " 0.8060677709099762,\n",
       " 0.8060677709099762,\n",
       " 0.8060677709099762,\n",
       " 0.8060677709099762,\n",
       " 0.8060677709099762,\n",
       " 0.8060677709099762,\n",
       " 0.7404978888073366,\n",
       " 0.7404978888073366,\n",
       " 0.5159055732567974,\n",
       " 0.5084034067485343,\n",
       " 0.5084034067485343,\n",
       " 0.5084034067485343,\n",
       " 0.5084034067485343,\n",
       " 0.5084034067485343,\n",
       " 0.5084034067485343,\n",
       " 0.5084034067485343,\n",
       " 0.5084034067485343,\n",
       " 0.42730830299205413,\n",
       " 0.39386272654326926,\n",
       " 0.39386272654326926,\n",
       " 0.39386272654326926,\n",
       " 0.39386272654326926,\n",
       " 0.39386272654326926,\n",
       " 0.39386272654326926,\n",
       " 0.39386272654326926,\n",
       " 0.39386272654326926,\n",
       " 0.39386272654326926,\n",
       " 0.39386272654326926,\n",
       " 0.19914196807269247,\n",
       " 0.19914196807269247,\n",
       " 0.19914196807269247,\n",
       " 0.19914196807269247,\n",
       " 0.19914196807269247,\n",
       " 0.19914196807269247,\n",
       " 0.19914196807269247,\n",
       " 0.19914196807269247,\n",
       " 0.19914196807269247,\n",
       " 0.19914196807269247,\n",
       " 0.19914196807269247,\n",
       " 0.19914196807269247,\n",
       " 0.19914196807269247,\n",
       " 0.19914196807269247,\n",
       " 0.19914196807269247,\n",
       " 0.19914196807269247,\n",
       " 0.19914196807269247,\n",
       " 0.19914196807269247,\n",
       " 0.19914196807269247,\n",
       " 0.19914196807269247,\n",
       " 0.19914196807269247,\n",
       " 0.19914196807269247,\n",
       " 0.19914196807269247,\n",
       " 0.19914196807269247,\n",
       " 0.19914196807269247,\n",
       " 0.19914196807269247,\n",
       " 0.19914196807269247,\n",
       " 0.19914196807269247,\n",
       " 0.19914196807269247,\n",
       " 0.19914196807269247,\n",
       " 0.19914196807269247,\n",
       " 0.19914196807269247,\n",
       " 0.19914196807269247,\n",
       " 0.19914196807269247,\n",
       " 0.19914196807269247,\n",
       " 0.19914196807269247,\n",
       " 0.19059331196551726,\n",
       " 0.19059331196551726,\n",
       " 0.16556954325133377,\n",
       " 0.16556954325133377,\n",
       " 0.16556954325133377,\n",
       " 0.16556954325133377,\n",
       " 0.16556954325133377,\n",
       " 0.16556954325133377,\n",
       " 0.16556954325133377,\n",
       " 0.16556954325133377,\n",
       " 0.16556954325133377,\n",
       " 0.16556954325133377,\n",
       " 0.16556954325133377,\n",
       " 0.16556954325133377,\n",
       " 0.16556954325133377,\n",
       " 0.16556954325133377,\n",
       " 0.16556954325133377,\n",
       " 0.16556954325133377,\n",
       " 0.16556954325133377,\n",
       " 0.16556954325133377,\n",
       " 0.16556954325133377,\n",
       " 0.16556954325133377,\n",
       " 0.16556954325133377,\n",
       " 0.16556954325133377,\n",
       " 0.16556954325133377,\n",
       " 0.16556954325133377,\n",
       " 0.16556954325133377,\n",
       " 0.14595633319814727,\n",
       " 0.14595633319814727,\n",
       " 0.14595633319814727,\n",
       " 0.14595633319814727,\n",
       " 0.14595633319814727,\n",
       " 0.14595633319814727,\n",
       " 0.14595633319814727,\n",
       " 0.14595633319814727,\n",
       " 0.14595633319814727,\n",
       " 0.14595633319814727,\n",
       " 0.14595633319814727,\n",
       " 0.14595633319814727,\n",
       " 0.14595633319814727,\n",
       " 0.14595633319814727,\n",
       " 0.14595633319814727,\n",
       " 0.14595633319814727,\n",
       " 0.14595633319814727,\n",
       " 0.14595633319814727,\n",
       " 0.14595633319814727,\n",
       " 0.14595633319814727,\n",
       " 0.14595633319814727,\n",
       " 0.14595633319814727,\n",
       " 0.14595633319814727,\n",
       " 0.14595633319814727,\n",
       " 0.14595633319814727,\n",
       " 0.14595633319814727,\n",
       " 0.14595633319814727,\n",
       " 0.14595633319814727,\n",
       " 0.14595633319814727,\n",
       " 0.14595633319814727,\n",
       " 0.14595633319814727,\n",
       " 0.14595633319814727,\n",
       " 0.10563317268238115,\n",
       " 0.10563317268238115,\n",
       " 0.10563317268238115,\n",
       " 0.10563317268238115,\n",
       " 0.10563317268238115]"
      ]
     },
     "execution_count": 43,
     "metadata": {},
     "output_type": "execute_result"
    }
   ],
   "source": [
    "model.report"
   ]
  }
 ],
 "metadata": {
  "kernelspec": {
   "display_name": "Python 3 (ipykernel)",
   "language": "python",
   "name": "python3"
  },
  "language_info": {
   "codemirror_mode": {
    "name": "ipython",
    "version": 3
   },
   "file_extension": ".py",
   "mimetype": "text/x-python",
   "name": "python",
   "nbconvert_exporter": "python",
   "pygments_lexer": "ipython3",
   "version": "3.8.11"
  }
 },
 "nbformat": 4,
 "nbformat_minor": 5
}

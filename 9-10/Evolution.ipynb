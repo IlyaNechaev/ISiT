{
 "cells": [
  {
   "cell_type": "code",
   "execution_count": 1,
   "id": "5a0edaf2",
   "metadata": {},
   "outputs": [],
   "source": [
    "import numpy as np\n",
    "import math\n",
    "from Genetic import GA\n",
    "from scipy.optimize import minimize, Bounds\n",
    "from scipy.optimize import OptimizeResult\n",
    "import matplotlib.pyplot as plt\n",
    "import sys\n",
    "import time"
   ]
  },
  {
   "cell_type": "markdown",
   "id": "3651899e",
   "metadata": {},
   "source": [
    "# Определение функций"
   ]
  },
  {
   "cell_type": "code",
   "execution_count": 2,
   "id": "348ee4e2",
   "metadata": {},
   "outputs": [],
   "source": [
    "# Функция Растригина\n",
    "def rastrigin_function(X):\n",
    "\n",
    "    dim=len(X)         \n",
    "\n",
    "    OF=0\n",
    "    for i in range (0,dim):\n",
    "        OF+=(X[i]**2)-10*math.cos(2*math.pi*X[i])+10\n",
    "\n",
    "    return OF\n",
    "\n",
    "def sphere(X):\n",
    "    return sum(x**2)\n",
    "\n",
    "rastrigin_varbound=np.array([[-5.12,5.12]]*2)"
   ]
  },
  {
   "cell_type": "code",
   "execution_count": 3,
   "id": "b7004c3a",
   "metadata": {},
   "outputs": [],
   "source": [
    "from statistics import mean\n",
    "from statistics import variance\n",
    "\n",
    "def f1(X):\n",
    "    res = rastrigin_function(X)\n",
    "    return res "
   ]
  },
  {
   "cell_type": "code",
   "execution_count": 7,
   "id": "5fc3b60f",
   "metadata": {},
   "outputs": [],
   "source": [
    "def progress(count, total, status=''):\n",
    "    bar_len = 50\n",
    "    filled_len = int(round(bar_len * count / float(total)))\n",
    "\n",
    "    percents = round(100.0 * count / float(total), 1)\n",
    "    bar = '|' * filled_len + '_' * (bar_len - filled_len)\n",
    "\n",
    "    sys.stdout.write('\\r%s %s%s/%s %s' % (status, bar, count, total, 'итераций'))\n",
    "    sys.stdout.flush()  "
   ]
  },
  {
   "cell_type": "code",
   "execution_count": 4,
   "id": "c985e736",
   "metadata": {
    "scrolled": false
   },
   "outputs": [],
   "source": [
    "xs = [[0,0],[0,1],[0.2,0.2],[0.5,0],[0.5,0.5],[0.1,0.1]]\n",
    "\n",
    "# Функция, которая будет вызываться при каждой итерации\n",
    "def callbackF1(X):    \n",
    "    function_results.append(f1(X))"
   ]
  },
  {
   "cell_type": "code",
   "execution_count": 9,
   "id": "f4b3dda6",
   "metadata": {},
   "outputs": [
    {
     "name": "stdout",
     "output_type": "stream",
     "text": [
      "Прогресс:  ||||||||||||||||||||||||||||||||||||||||||||||||||100/100 итераций\n",
      "Математическое ожидание:  1.8721204119018446\n",
      "Дисперсия:  3.5114596092066215\n"
     ]
    }
   ],
   "source": [
    "xs = []\n",
    "for i in range(5, 55, 5):\n",
    "    for y in range(5, 55, 5):\n",
    "        xs.append([i / 100.00, y / 100.00])\n",
    "\n",
    "total_runs = len(xs)\n",
    "values = []\n",
    "progress(0, total_runs, \"Прогресс: \")\n",
    "\n",
    "for i in range(total_runs):\n",
    "    function_results = []\n",
    "    model = minimize(f1, xs[i], method='SLSQP', bounds=rastrigin_varbound, callback=callbackF1)\n",
    "    values.append(function_results[-1])\n",
    "    progress(i + 1, total_runs, \"Прогресс: \")    \n",
    "\n",
    "print(\"\\nМатематическое ожидание: \", mean(values))\n",
    "print(\"Дисперсия: \", variance(values))"
   ]
  },
  {
   "cell_type": "code",
   "execution_count": 10,
   "id": "57f2e218",
   "metadata": {},
   "outputs": [
    {
     "name": "stdout",
     "output_type": "stream",
     "text": [
      "Прогресс:  ||||||||||||||||||||||||||||||||||||||||||||||||||100/100 итераций\n",
      "Значение математического ожидания:  0.009956033563179804\n",
      "Значение дисперсии:  0.0003095164392576652\n"
     ]
    }
   ],
   "source": [
    "algorithm_param = {'max_num_iteration': 70,\n",
    "                   'population_size': 70,\n",
    "                   'mutation_probability': 0.4,\n",
    "                   'elit_ratio': 0.01,\n",
    "                   'crossover_probability': 0.7,\n",
    "                   'parents_portion': 0.3,\n",
    "                   'crossover_type': 'uniform',\n",
    "                   'max_iteration_without_improv': None}\n",
    "\n",
    "model=GA(function=f1,\n",
    "         dimension=2,\n",
    "         variable_type='real',\n",
    "         variable_boundaries=rastrigin_varbound,\n",
    "         progress_bar=False, \n",
    "         convergence_curve=False,\n",
    "         algorithm_parameters=algorithm_param)\n",
    "\n",
    "total_runs = 100\n",
    "values = []\n",
    "progress(1, total_runs, \"Прогресс: \")\n",
    "\n",
    "for i in range(total_runs):    \n",
    "    model.run()\n",
    "    values.append(model.best_function)    \n",
    "    progress(i + 1, total_runs, \"Прогресс: \")\n",
    "    \n",
    "print(\"\\nЗначение математического ожидания: \", mean(values))   \n",
    "print(\"Значение дисперсии: \", variance(values))"
   ]
  },
  {
   "cell_type": "markdown",
   "id": "e31d1988",
   "metadata": {},
   "source": [
    "### Определим время, требуемое для получения априори известного значения глобального экстремума оптимизируемой функции"
   ]
  },
  {
   "cell_type": "code",
   "execution_count": 30,
   "id": "0b60c67e",
   "metadata": {},
   "outputs": [],
   "source": [
    "# Функция для поиска априори известного значения\n",
    "def f2(X):\n",
    "    res = rastrigin_function(X)\n",
    "    if res < 0.001:\n",
    "        res = 0\n",
    "    return res"
   ]
  },
  {
   "cell_type": "markdown",
   "id": "a3289f79",
   "metadata": {},
   "source": [
    "К сожалению, GA не находит точное значение экстремума (значение имеет погрешность около 0,01), поэтому в функции f2 априорное значение определено как промежуток вещественных чисел от 0 до 0,01"
   ]
  },
  {
   "cell_type": "code",
   "execution_count": 33,
   "id": "75deb978",
   "metadata": {},
   "outputs": [
    {
     "name": "stdout",
     "output_type": "stream",
     "text": [
      "\n",
      "Warning: GA is terminated due to the maximum number of iterations without improvement was met!\n",
      "Warning: GA is terminated due to the maximum number of iterations without improvement was met!\n",
      "\n",
      "Время:  2.883575916290283\n"
     ]
    }
   ],
   "source": [
    "algorithm_param = {'max_num_iteration': 150,\n",
    "                   'population_size': 100,\n",
    "                   'mutation_probability': 0.2,\n",
    "                   'elit_ratio': 0.01,\n",
    "                   'crossover_probability': 0.3,\n",
    "                   'parents_portion': 0.4,\n",
    "                   'crossover_type': 'uniform',\n",
    "                   'max_iteration_without_improv': 2}\n",
    "\n",
    "model=GA(function=f2,\n",
    "         dimension=2,\n",
    "         variable_type='real',\n",
    "         variable_boundaries=rastrigin_varbound,\n",
    "         progress_bar=False, \n",
    "         convergence_curve=False,\n",
    "         algorithm_parameters=algorithm_param)\n",
    "result = 1\n",
    "while int(result) != 0:\n",
    "    start = time.time()\n",
    "    model.run()\n",
    "    stop = time.time()\n",
    "    result = model.best_function\n",
    "print(\"\\n\\nВремя: \",stop - start)"
   ]
  },
  {
   "cell_type": "code",
   "execution_count": 32,
   "id": "fe727ad0",
   "metadata": {},
   "outputs": [
    {
     "name": "stdout",
     "output_type": "stream",
     "text": [
      "Время:  0.0034661293029785156\n"
     ]
    }
   ],
   "source": [
    "result = 1\n",
    "while int(result) != 0:\n",
    "    is_zero = False\n",
    "    start = time.time()\n",
    "    model = minimize(f2, xs[i], method='SLSQP', bounds=rastrigin_varbound, callback=callbackF1)\n",
    "    stop = time.time()\n",
    "    result = model.fun\n",
    "print(\"Время: \",stop - start)"
   ]
  },
  {
   "cell_type": "markdown",
   "id": "5ff4f71b",
   "metadata": {},
   "source": [
    "### Оценить время нахождения последнего (возможно, локального) экстремума функции соответствия (целевой функции) "
   ]
  },
  {
   "cell_type": "code",
   "execution_count": 62,
   "id": "f2697d3e",
   "metadata": {},
   "outputs": [],
   "source": [
    "class Params:\n",
    "    def reset():\n",
    "        Params.result = -1\n",
    "        Params.f3_stop = time.time()\n",
    "        Params.generation = 0\n",
    "        Params.current_generation = 0\n",
    "        \n",
    "    def save(res, stop, cur_gen):\n",
    "        Params.result = res\n",
    "        Params.f3_stop = stop\n",
    "        Params.current_generation = cur_gen \n",
    "        \n",
    "    def save_generation(gen):\n",
    "        Params.generation = gen\n",
    "        \n",
    "    def get_generation():\n",
    "        return Params.generation\n",
    "    \n",
    "    def get_result():\n",
    "        return Params.result\n",
    "    \n",
    "    def get_stop():\n",
    "        return Params.f3_stop\n",
    "    \n",
    "    def get_current_generation():\n",
    "        return Params.current_generation\n",
    "    \n",
    "Params.reset = staticmethod(Params.reset)\n",
    "Params.save = staticmethod(Params.save)\n",
    "Params.save_generation = staticmethod(Params.save_generation)\n",
    "Params.get_generation = staticmethod(Params.get_generation)\n",
    "Params.get_result = staticmethod(Params.get_result)\n",
    "Params.get_stop = staticmethod(Params.get_stop)\n",
    "Params.get_current_generation = staticmethod(Params.get_current_generation)\n",
    "\n",
    "def f3(X):    \n",
    "    res = rastrigin_function(X)\n",
    "    Params.save_generation(Params.get_generation() + 1)\n",
    "    if Params.get_result() < 0 or res < Params.get_result():\n",
    "        Params.save(res, time.time(), Params.get_generation())\n",
    "    return res"
   ]
  },
  {
   "cell_type": "code",
   "execution_count": 61,
   "id": "53227af7",
   "metadata": {},
   "outputs": [
    {
     "name": "stdout",
     "output_type": "stream",
     "text": [
      "                                                                                                    \n",
      "Экстремум:  2.1682284371493665e-05\n",
      "Время:  8.907960891723633\n",
      "Поколение:  8986\n"
     ]
    }
   ],
   "source": [
    "algorithm_param = {'max_num_iteration': 150,\n",
    "                   'population_size': 100,\n",
    "                   'mutation_probability': 0.2,\n",
    "                   'elit_ratio': 0.01,\n",
    "                   'crossover_probability': 0.3,\n",
    "                   'parents_portion': 0.4,\n",
    "                   'crossover_type': 'uniform',\n",
    "                   'max_iteration_without_improv': None}\n",
    "\n",
    "\n",
    "model=GA(function=f3,\n",
    "         dimension=2,\n",
    "         variable_type='real',\n",
    "         variable_boundaries=rastrigin_varbound,\n",
    "         progress_bar=True, \n",
    "         convergence_curve=False,\n",
    "         algorithm_parameters=algorithm_param)\n",
    "\n",
    "Params.reset()\n",
    "start = time.time()\n",
    "model.run()\n",
    "\n",
    "print(\"\\nЭкстремум: \", Params.get_result())\n",
    "print(\"Время: \", Params.get_stop() - start)\n",
    "print(\"Поколение: \", Params.get_current_generation())"
   ]
  }
 ],
 "metadata": {
  "kernelspec": {
   "display_name": "Python 3 (ipykernel)",
   "language": "python",
   "name": "python3"
  },
  "language_info": {
   "codemirror_mode": {
    "name": "ipython",
    "version": 3
   },
   "file_extension": ".py",
   "mimetype": "text/x-python",
   "name": "python",
   "nbconvert_exporter": "python",
   "pygments_lexer": "ipython3",
   "version": "3.9.7"
  }
 },
 "nbformat": 4,
 "nbformat_minor": 5
}

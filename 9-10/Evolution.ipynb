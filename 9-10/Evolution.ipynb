{
 "cells": [
  {
   "cell_type": "code",
   "execution_count": 1,
   "id": "5a0edaf2",
   "metadata": {},
   "outputs": [],
   "source": [
    "import numpy as np\n",
    "import math\n",
    "from Genetic import GA\n",
    "from scipy.optimize import minimize, Bounds\n",
    "from scipy.optimize import OptimizeResult\n",
    "import matplotlib.pyplot as plt\n",
    "import sys\n",
    "import time"
   ]
  },
  {
   "cell_type": "markdown",
   "id": "3651899e",
   "metadata": {},
   "source": [
    "# Определение функций"
   ]
  },
  {
   "cell_type": "code",
   "execution_count": 2,
   "id": "348ee4e2",
   "metadata": {},
   "outputs": [],
   "source": [
    "# Функция Растригина\n",
    "def rastrigin_function(X):\n",
    "\n",
    "    dim=len(X)         \n",
    "\n",
    "    OF=0\n",
    "    for i in range (0,dim):\n",
    "        OF+=(X[i]**2)-10*math.cos(2*math.pi*X[i])+10\n",
    "\n",
    "    return OF\n",
    "\n",
    "def sphere(X):\n",
    "    return sum(x**2)\n",
    "\n",
    "rastrigin_varbound=np.array([[-5.12,5.12]]*2)"
   ]
  },
  {
   "cell_type": "code",
   "execution_count": 3,
   "id": "b7004c3a",
   "metadata": {},
   "outputs": [],
   "source": [
    "from statistics import mean\n",
    "from statistics import variance\n",
    "\n",
    "def f1(X):\n",
    "    res = rastrigin_function(X)\n",
    "    return res "
   ]
  },
  {
   "cell_type": "code",
   "execution_count": 4,
   "id": "5fc3b60f",
   "metadata": {},
   "outputs": [],
   "source": [
    "def progress(count, total, status=''):\n",
    "    bar_len = 50\n",
    "    filled_len = int(round(bar_len * count / float(total)))\n",
    "\n",
    "    percents = round(100.0 * count / float(total), 1)\n",
    "    bar = '|' * filled_len + '_' * (bar_len - filled_len)\n",
    "\n",
    "    sys.stdout.write('\\r%s %s%s/%s %s' % (status, bar, count, total, 'итераций'))\n",
    "    sys.stdout.flush()  "
   ]
  },
  {
   "cell_type": "code",
   "execution_count": 5,
   "id": "c985e736",
   "metadata": {
    "scrolled": false
   },
   "outputs": [],
   "source": [
    "xs = [[0,0],[0,1],[0.2,0.2],[0.5,0],[0.5,0.5],[0.1,0.1]]\n",
    "\n",
    "# Функция, которая будет вызываться при каждой итерации\n",
    "def callbackF(X):    \n",
    "    function_results.append(f1(X))"
   ]
  },
  {
   "cell_type": "code",
   "execution_count": 6,
   "id": "e3447737",
   "metadata": {},
   "outputs": [
    {
     "name": "stdout",
     "output_type": "stream",
     "text": [
      "Начальные значения переменных:  [0, 0]\n",
      "Итогове значение функции соответствия:  0.0\n",
      "Дисперсия значений целевой функции:  0.0\n",
      "Математическое ожидание значений целевой функции:  0.0\n",
      "Количество итераций:  3 \n",
      "\n",
      "Начальные значения переменных:  [0, 1]\n",
      "Итогове значение функции соответствия:  0.9949594159327173\n",
      "Дисперсия значений целевой функции:  3.2591405304835924e-06\n",
      "Математическое ожидание значений целевой функции:  0.995747907512137\n",
      "Количество итераций:  14 \n",
      "\n",
      "Начальные значения переменных:  [0.2, 0.2]\n",
      "Итогове значение функции соответствия:  2.765520434877544e-07\n",
      "Дисперсия значений целевой функции:  20.56183237006442\n",
      "Математическое ожидание значений целевой функции:  2.36614039008298\n",
      "Количество итераций:  32 \n",
      "\n",
      "Начальные значения переменных:  [0.5, 0]\n",
      "Итогове значение функции соответствия:  0.9949590737845373\n",
      "Дисперсия значений целевой функции:  31.56705374896475\n",
      "Математическое ожидание значений целевой функции:  3.23686160390494\n",
      "Количество итераций:  33 \n",
      "\n",
      "Начальные значения переменных:  [0.5, 0.5]\n",
      "Итогове значение функции соответствия:  1.9899182857331894\n",
      "Дисперсия значений целевой функции:  124.25002474330329\n",
      "Математическое ожидание значений целевой функции:  7.7773322438536585\n",
      "Количество итераций:  37 \n",
      "\n",
      "Начальные значения переменных:  [0.1, 0.1]\n",
      "Итогове значение функции соответствия:  1.9325184119622918e-07\n",
      "Дисперсия значений целевой функции:  1.597876715444471\n",
      "Математическое ожидание значений целевой функции:  0.6807315723814126\n",
      "Количество итераций:  30 \n",
      "\n"
     ]
    }
   ],
   "source": [
    "for x0 in xs:\n",
    "    function_results = []\n",
    "    model = minimize(f1, x0, method='Nelder-Mead', bounds=rastrigin_varbound, callback=callbackF)\n",
    "    print(\"Начальные значения переменных: \", x0)\n",
    "    print(\"Итогове значение функции соответствия: \", model.fun)\n",
    "    print(\"Дисперсия значений целевой функции: \", variance(function_results))\n",
    "    print(\"Математическое ожидание значений целевой функции: \", mean(function_results))\n",
    "    print(\"Количество итераций: \", len(function_results),\"\\n\")"
   ]
  },
  {
   "cell_type": "code",
   "execution_count": 7,
   "id": "cfbf6b63",
   "metadata": {},
   "outputs": [
    {
     "name": "stdout",
     "output_type": "stream",
     "text": [
      "Всего итераций:  36\n"
     ]
    }
   ],
   "source": [
    "# Параметры генетического алгоритма\n",
    "max_num_iterations = range(70, 150, 50)\n",
    "population_size = range(70, 150, 50)\n",
    "mutation_probability = range(10, 100, 30)\n",
    "crossover_probability = range(10, 100, 30)\n",
    "\n",
    "total_runs = len(max_num_iterations) * len(population_size) * len(mutation_probability) * len(crossover_probability)\n",
    "print(\"Всего итераций: \",total_runs)"
   ]
  },
  {
   "cell_type": "code",
   "execution_count": 43,
   "id": "ab6a4ae6",
   "metadata": {
    "scrolled": false
   },
   "outputs": [
    {
     "name": "stdout",
     "output_type": "stream",
     "text": [
      "Прогресс:  ||||||||||||||||||||||||||||||||||||||||||||||||||36/36 итераций"
     ]
    }
   ],
   "source": [
    "params_dict = {}\n",
    "best_variance = 0.0\n",
    "current_run = 1\n",
    "\n",
    "for iters in max_num_iterations:\n",
    "    for size in population_size:\n",
    "        for m_prob in mutation_probability:\n",
    "            for c_prob in crossover_probability:\n",
    "                algorithm_param = {'max_num_iteration': iters,\n",
    "                                   'population_size': size,\n",
    "                                   'mutation_probability': m_prob / 100.00,\n",
    "                                   'elit_ratio': 0.01,\n",
    "                                   'crossover_probability': c_prob / 100.00,\n",
    "                                   'parents_portion': 0.3,\n",
    "                                   'crossover_type': 'uniform',\n",
    "                                   'max_iteration_without_improv': None}\n",
    "                model=GA(function=f1,\n",
    "                         dimension=2,\n",
    "                         variable_type='real',\n",
    "                         variable_boundaries=rastrigin_varbound,\n",
    "                         progress_bar=False, \n",
    "                         convergence_curve=False,\n",
    "                         algorithm_parameters=algorithm_param)\n",
    "\n",
    "                model.run()\n",
    "                progress(current_run, total_runs, \"Прогресс: \")\n",
    "                current_run += 1\n",
    "                if variance(model.report) < best_variance or best_variance == 0.0:\n",
    "                    best_variance = variance(model.report)\n",
    "                    params_dict[\"max_num_iteration\"]=iters\n",
    "                    params_dict[\"population_size\"]=size\n",
    "                    params_dict[\"mutation_probability\"]=m_prob / 100.00\n",
    "                    params_dict[\"crossover_probability\"]=c_prob / 100.00"
   ]
  },
  {
   "cell_type": "code",
   "execution_count": 44,
   "id": "bb359753",
   "metadata": {},
   "outputs": [
    {
     "name": "stdout",
     "output_type": "stream",
     "text": [
      "\n",
      "Лучшее значение дисперсии:  0.1664687670681339\n",
      "\n",
      "Значения параметров: \n",
      "max_num_iteration :  70\n",
      "population_size :  70\n",
      "mutation_probability :  0.4\n",
      "crossover_probability :  0.7\n"
     ]
    }
   ],
   "source": [
    "print(\"\\nЛучшее значение дисперсии: \", best_variance)\n",
    "print(\"\\nЗначения параметров: \")\n",
    "for key in params_dict.keys():\n",
    "    print(key,\": \",params_dict[key])"
   ]
  },
  {
   "cell_type": "code",
   "execution_count": 45,
   "id": "2d2751b4",
   "metadata": {
    "scrolled": false
   },
   "outputs": [
    {
     "name": "stdout",
     "output_type": "stream",
     "text": [
      " The best solution found:                                                                           \n",
      " [-0.00024451 -0.00517632]\n",
      "\n",
      " Objective function:\n",
      " 0.005327171441011913\n"
     ]
    },
    {
     "data": {
      "image/png": "[encoded data removed]",
      "text/plain": [
       "<Figure size 432x288 with 1 Axes>"
      ]
     },
     "metadata": {
      "needs_background": "light"
     },
     "output_type": "display_data"
    }
   ],
   "source": [
    "algorithm_param = {'max_num_iteration': 70,\n",
    "                   'population_size': 70,\n",
    "                   'mutation_probability': 0.4,\n",
    "                   'elit_ratio': 0.01,\n",
    "                   'crossover_probability': 0.7,\n",
    "                   'parents_portion': 0.3,\n",
    "                   'crossover_type': 'uniform',\n",
    "                   'max_iteration_without_improv': None}\n",
    "\n",
    "model=GA(function=f1,\n",
    "         dimension=2,\n",
    "         variable_type='real',\n",
    "         variable_boundaries=varbound,\n",
    "         progress_bar=True, \n",
    "         algorithm_parameters=algorithm_param)\n",
    "\n",
    "model.run()"
   ]
  },
  {
   "cell_type": "code",
   "execution_count": 46,
   "id": "269d56fc",
   "metadata": {},
   "outputs": [
    {
     "name": "stdout",
     "output_type": "stream",
     "text": [
      "Дисперсия значений целевой функции:  1.5723755232146404\n",
      "Математическое ожидание значений целевой функции:  0.2830018910374578\n"
     ]
    }
   ],
   "source": [
    "print(\"Дисперсия значений целевой функции: \", variance(model.report))\n",
    "print(\"Математическое ожидание значений целевой функции: \", mean(model.report))"
   ]
  },
  {
   "cell_type": "code",
   "execution_count": 26,
   "id": "b913ff74",
   "metadata": {},
   "outputs": [
    {
     "name": "stdout",
     "output_type": "stream",
     "text": [
      "Дисперсия:  22\n",
      "Математическое ожидание:  3\n"
     ]
    }
   ],
   "source": [
    "arr=[0,1,1,10]\n",
    "\n",
    "print(\"Дисперсия: \", variance(arr))\n",
    "print(\"Математическое ожидание: \", mean(arr))"
   ]
  },
  {
   "cell_type": "markdown",
   "id": "e31d1988",
   "metadata": {},
   "source": [
    "### Определим время, требуемое для получения априори известного значения глобального экстремума оптимизируемой функции"
   ]
  },
  {
   "cell_type": "code",
   "execution_count": 21,
   "id": "0b60c67e",
   "metadata": {},
   "outputs": [],
   "source": [
    "# Функция для поиска априори известного значения\n",
    "def f2(X):\n",
    "    res = rastrigin_function(X)\n",
    "    if res < 0.01:\n",
    "        res = 0\n",
    "    return res"
   ]
  },
  {
   "cell_type": "markdown",
   "id": "a3289f79",
   "metadata": {},
   "source": [
    "К сожалению, GA не находит точное значение экстремума (значение имеет погрешность около 0,01), поэтому в функции f2 априорное значение определено как промежуток вещественных чисел от 0 до 0,01"
   ]
  },
  {
   "cell_type": "code",
   "execution_count": 30,
   "id": "75deb978",
   "metadata": {},
   "outputs": [
    {
     "name": "stdout",
     "output_type": "stream",
     "text": [
      "\n",
      "Warning: GA is terminated due to the maximum number of iterations without improvement was met!\n",
      "Warning: GA is terminated due to the maximum number of iterations without improvement was met!\n",
      "\n",
      "Время:  2.442627429962158\n"
     ]
    }
   ],
   "source": [
    "algorithm_param = {'max_num_iteration': 150,\n",
    "                   'population_size': 100,\n",
    "                   'mutation_probability': 0.2,\n",
    "                   'elit_ratio': 0.01,\n",
    "                   'crossover_probability': 0.3,\n",
    "                   'parents_portion': 0.4,\n",
    "                   'crossover_type': 'uniform',\n",
    "                   'max_iteration_without_improv': 2}\n",
    "\n",
    "model=GA(function=f2,\n",
    "         dimension=2,\n",
    "         variable_type='real',\n",
    "         variable_boundaries=rastrigin_varbound,\n",
    "         progress_bar=False, \n",
    "         convergence_curve=False,\n",
    "         algorithm_parameters=algorithm_param)\n",
    "result = 1\n",
    "while int(result) != 0:\n",
    "    start = time.time()\n",
    "    model.run()\n",
    "    stop = time.time()\n",
    "    result = model.best_function\n",
    "print(\"\\n\\nВремя: \",stop - start)"
   ]
  }
 ],
 "metadata": {
  "kernelspec": {
   "display_name": "Python 3 (ipykernel)",
   "language": "python",
   "name": "python3"
  },
  "language_info": {
   "codemirror_mode": {
    "name": "ipython",
    "version": 3
   },
   "file_extension": ".py",
   "mimetype": "text/x-python",
   "name": "python",
   "nbconvert_exporter": "python",
   "pygments_lexer": "ipython3",
   "version": "3.9.7"
  }
 },
 "nbformat": 4,
 "nbformat_minor": 5
}

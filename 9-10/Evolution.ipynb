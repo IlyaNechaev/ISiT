{
 "cells": [
  {
   "cell_type": "code",
   "execution_count": 1,
   "id": "5a0edaf2",
   "metadata": {},
   "outputs": [],
   "source": [
    "import numpy as np\n",
    "import math\n",
    "from geneticalgorithm import geneticalgorithm as ga\n",
    "from scipy.optimize import minimize, Bounds"
   ]
  },
  {
   "cell_type": "code",
   "execution_count": 2,
   "id": "348ee4e2",
   "metadata": {},
   "outputs": [],
   "source": [
    "# Функция Растригина\n",
    "def rastrigin_function(X):\n",
    "\n",
    "    dim=len(X)         \n",
    "\n",
    "    OF=0\n",
    "    for i in range (0,dim):\n",
    "        OF+=(X[i]**2)-10*math.cos(2*math.pi*X[i])+10\n",
    "\n",
    "    return OF"
   ]
  },
  {
   "cell_type": "code",
   "execution_count": 12,
   "id": "b7004c3a",
   "metadata": {},
   "outputs": [],
   "source": [
    "from statistics import mean\n",
    "from statistics import variance\n",
    "\n",
    "def f1(X):\n",
    "    res = rastrigin_function(X)\n",
    "    return res"
   ]
  },
  {
   "cell_type": "code",
   "execution_count": 61,
   "id": "c985e736",
   "metadata": {},
   "outputs": [
    {
     "name": "stdout",
     "output_type": "stream",
     "text": [
      "[0. 1.]\n",
      "[0. 1.]\n",
      "[1.40625e-04 9.93750e-01]\n",
      "[-1.09375e-04  9.93750e-01]\n",
      "[-1.09375e-04  9.93750e-01]\n",
      "[1.171875e-05 9.953125e-01]\n",
      "[1.171875e-05 9.953125e-01]\n",
      "[1.171875e-05 9.953125e-01]\n",
      "[-1.12304687e-04  9.94921875e-01]\n",
      "[-1.12304687e-04  9.94921875e-01]\n",
      "[-1.12304687e-04  9.94921875e-01]\n",
      "[1.24511719e-05 9.95019531e-01]\n",
      "[4.38842773e-05 9.94946289e-01]\n",
      "[-4.20684814e-05  9.94952393e-01]\n",
      "0.9949594159327173\n"
     ]
    }
   ],
   "source": [
    "x0 = [0,1]\n",
    "bounds=np.array([[-5.12,5.12]]*2)\n",
    "\n",
    "def callbackF(X):    \n",
    "    print(X)\n",
    "    \n",
    "model = minimize(f1, x0, method='Nelder-Mead', bounds=varbound, callback=callbackF)\n",
    "print(model.fun)"
   ]
  },
  {
   "cell_type": "code",
   "execution_count": 52,
   "id": "2d2751b4",
   "metadata": {
    "scrolled": false
   },
   "outputs": [
    {
     "name": "stdout",
     "output_type": "stream",
     "text": [
      " The best solution found:                                                                           \n",
      " [0.01457825 0.0005167 ]\n",
      "\n",
      " Objective function:\n",
      " 0.042187008416338045\n"
     ]
    },
    {
     "data": {
      "image/png": "[encoded data removed]",
      "text/plain": [
       "<Figure size 432x288 with 1 Axes>"
      ]
     },
     "metadata": {
      "needs_background": "light"
     },
     "output_type": "display_data"
    }
   ],
   "source": [
    "varbound=np.array([[-5.12,5.12]]*2)\n",
    "\n",
    "algorithm_param = {'max_num_iteration': 150,\n",
    "                   'population_size': 100,\n",
    "                   'mutation_probability': 0.1,\n",
    "                   'elit_ratio': 0.01,\n",
    "                   'crossover_probability': 0.5,\n",
    "                   'parents_portion': 0.3,\n",
    "                   'crossover_type': 'uniform',\n",
    "                   'max_iteration_without_improv': None}\n",
    "\n",
    "model=ga(function=f1,\n",
    "         dimension=2,\n",
    "         variable_type='real',\n",
    "         variable_boundaries=varbound,\n",
    "         progress_bar=True, \n",
    "         algorithm_parameters=algorithm_param)\n",
    "\n",
    "model.run()"
   ]
  },
  {
   "cell_type": "code",
   "execution_count": 26,
   "id": "269d56fc",
   "metadata": {},
   "outputs": [
    {
     "name": "stdout",
     "output_type": "stream",
     "text": [
      "Дисперсия:  0.15838954965090904\n",
      "Математическое ожидание:  0.14700203042689547\n"
     ]
    }
   ],
   "source": [
    "print(\"Дисперсия: \", variance(model.report))\n",
    "print(\"Математическое ожидание: \", mean(model.report))"
   ]
  },
  {
   "cell_type": "code",
   "execution_count": 47,
   "id": "e45baa2b",
   "metadata": {},
   "outputs": [
    {
     "name": "stdout",
     "output_type": "stream",
     "text": [
      " The best solution found:                                                                           \n",
      " [0.00461837 0.03088269 0.00053592]\n",
      "\n",
      " Objective function:\n",
      " 0.036036978809083076\n"
     ]
    },
    {
     "data": {
      "image/png": "[encoded data removed]",
      "text/plain": [
       "<Figure size 432x288 with 1 Axes>"
      ]
     },
     "metadata": {
      "needs_background": "light"
     },
     "output_type": "display_data"
    }
   ],
   "source": [
    "import numpy as np\n",
    "from geneticalgorithm import geneticalgorithm as ga\n",
    "\n",
    "def f(X):\n",
    "    return np.sum(X)\n",
    "\n",
    "varbound=np.array([[0,10]]*3)\n",
    "\n",
    "algorithm_param = {'max_num_iteration': 150,\n",
    "                   'population_size': 100,\n",
    "                   'mutation_probability': 0.1,\n",
    "                   'elit_ratio': 0.01,\n",
    "                   'crossover_probability': 0.5,\n",
    "                   'parents_portion': 0.3,\n",
    "                   'crossover_type': 'uniform',\n",
    "                   'max_iteration_without_improv': None}\n",
    "\n",
    "model=ga(function=f,dimension=3,variable_type='real',variable_boundaries=varbound,algorithm_parameters=algorithm_param)\n",
    "\n",
    "model.run()"
   ]
  },
  {
   "cell_type": "code",
   "execution_count": 43,
   "id": "47b22660",
   "metadata": {},
   "outputs": [
    {
     "data": {
      "text/plain": [
       "[5.52698453285942,\n",
       " 5.52698453285942,\n",
       " 3.2611406190722327,\n",
       " 3.2611406190722327,\n",
       " 2.707782400071083,\n",
       " 2.707782400071083,\n",
       " 2.707782400071083,\n",
       " 1.6942957001830994,\n",
       " 1.6942957001830994,\n",
       " 1.6942957001830994,\n",
       " 1.6271886305903605,\n",
       " 1.6271886305903605,\n",
       " 1.6271886305903605,\n",
       " 1.6271886305903605,\n",
       " 1.6271886305903605,\n",
       " 1.5859257090786105,\n",
       " 1.5859257090786105,\n",
       " 0.8060677709099762,\n",
       " 0.8060677709099762,\n",
       " 0.8060677709099762,\n",
       " 0.8060677709099762,\n",
       " 0.8060677709099762,\n",
       " 0.8060677709099762,\n",
       " 0.8060677709099762,\n",
       " 0.8060677709099762,\n",
       " 0.8060677709099762,\n",
       " 0.8060677709099762,\n",
       " 0.8060677709099762,\n",
       " 0.8060677709099762,\n",
       " 0.7404978888073366,\n",
       " 0.7404978888073366,\n",
       " 0.5159055732567974,\n",
       " 0.5084034067485343,\n",
       " 0.5084034067485343,\n",
       " 0.5084034067485343,\n",
       " 0.5084034067485343,\n",
       " 0.5084034067485343,\n",
       " 0.5084034067485343,\n",
       " 0.5084034067485343,\n",
       " 0.5084034067485343,\n",
       " 0.42730830299205413,\n",
       " 0.39386272654326926,\n",
       " 0.39386272654326926,\n",
       " 0.39386272654326926,\n",
       " 0.39386272654326926,\n",
       " 0.39386272654326926,\n",
       " 0.39386272654326926,\n",
       " 0.39386272654326926,\n",
       " 0.39386272654326926,\n",
       " 0.39386272654326926,\n",
       " 0.39386272654326926,\n",
       " 0.19914196807269247,\n",
       " 0.19914196807269247,\n",
       " 0.19914196807269247,\n",
       " 0.19914196807269247,\n",
       " 0.19914196807269247,\n",
       " 0.19914196807269247,\n",
       " 0.19914196807269247,\n",
       " 0.19914196807269247,\n",
       " 0.19914196807269247,\n",
       " 0.19914196807269247,\n",
       " 0.19914196807269247,\n",
       " 0.19914196807269247,\n",
       " 0.19914196807269247,\n",
       " 0.19914196807269247,\n",
       " 0.19914196807269247,\n",
       " 0.19914196807269247,\n",
       " 0.19914196807269247,\n",
       " 0.19914196807269247,\n",
       " 0.19914196807269247,\n",
       " 0.19914196807269247,\n",
       " 0.19914196807269247,\n",
       " 0.19914196807269247,\n",
       " 0.19914196807269247,\n",
       " 0.19914196807269247,\n",
       " 0.19914196807269247,\n",
       " 0.19914196807269247,\n",
       " 0.19914196807269247,\n",
       " 0.19914196807269247,\n",
       " 0.19914196807269247,\n",
       " 0.19914196807269247,\n",
       " 0.19914196807269247,\n",
       " 0.19914196807269247,\n",
       " 0.19914196807269247,\n",
       " 0.19914196807269247,\n",
       " 0.19914196807269247,\n",
       " 0.19914196807269247,\n",
       " 0.19059331196551726,\n",
       " 0.19059331196551726,\n",
       " 0.16556954325133377,\n",
       " 0.16556954325133377,\n",
       " 0.16556954325133377,\n",
       " 0.16556954325133377,\n",
       " 0.16556954325133377,\n",
       " 0.16556954325133377,\n",
       " 0.16556954325133377,\n",
       " 0.16556954325133377,\n",
       " 0.16556954325133377,\n",
       " 0.16556954325133377,\n",
       " 0.16556954325133377,\n",
       " 0.16556954325133377,\n",
       " 0.16556954325133377,\n",
       " 0.16556954325133377,\n",
       " 0.16556954325133377,\n",
       " 0.16556954325133377,\n",
       " 0.16556954325133377,\n",
       " 0.16556954325133377,\n",
       " 0.16556954325133377,\n",
       " 0.16556954325133377,\n",
       " 0.16556954325133377,\n",
       " 0.16556954325133377,\n",
       " 0.16556954325133377,\n",
       " 0.16556954325133377,\n",
       " 0.16556954325133377,\n",
       " 0.14595633319814727,\n",
       " 0.14595633319814727,\n",
       " 0.14595633319814727,\n",
       " 0.14595633319814727,\n",
       " 0.14595633319814727,\n",
       " 0.14595633319814727,\n",
       " 0.14595633319814727,\n",
       " 0.14595633319814727,\n",
       " 0.14595633319814727,\n",
       " 0.14595633319814727,\n",
       " 0.14595633319814727,\n",
       " 0.14595633319814727,\n",
       " 0.14595633319814727,\n",
       " 0.14595633319814727,\n",
       " 0.14595633319814727,\n",
       " 0.14595633319814727,\n",
       " 0.14595633319814727,\n",
       " 0.14595633319814727,\n",
       " 0.14595633319814727,\n",
       " 0.14595633319814727,\n",
       " 0.14595633319814727,\n",
       " 0.14595633319814727,\n",
       " 0.14595633319814727,\n",
       " 0.14595633319814727,\n",
       " 0.14595633319814727,\n",
       " 0.14595633319814727,\n",
       " 0.14595633319814727,\n",
       " 0.14595633319814727,\n",
       " 0.14595633319814727,\n",
       " 0.14595633319814727,\n",
       " 0.14595633319814727,\n",
       " 0.14595633319814727,\n",
       " 0.10563317268238115,\n",
       " 0.10563317268238115,\n",
       " 0.10563317268238115,\n",
       " 0.10563317268238115,\n",
       " 0.10563317268238115]"
      ]
     },
     "execution_count": 43,
     "metadata": {},
     "output_type": "execute_result"
    }
   ],
   "source": [
    "model.report"
   ]
  }
 ],
 "metadata": {
  "kernelspec": {
   "display_name": "Python 3 (ipykernel)",
   "language": "python",
   "name": "python3"
  },
  "language_info": {
   "codemirror_mode": {
    "name": "ipython",
    "version": 3
   },
   "file_extension": ".py",
   "mimetype": "text/x-python",
   "name": "python",
   "nbconvert_exporter": "python",
   "pygments_lexer": "ipython3",
   "version": "3.9.7"
  }
 },
 "nbformat": 4,
 "nbformat_minor": 5
}

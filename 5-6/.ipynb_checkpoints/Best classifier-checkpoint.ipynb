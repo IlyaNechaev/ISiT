{
 "cells": [
  {
   "cell_type": "code",
   "execution_count": 7,
   "id": "113aa65f",
   "metadata": {},
   "outputs": [],
   "source": [
    "from sklearn import datasets\n",
    "from sklearn.model_selection import train_test_split\n",
    "from sklearn import metrics\n",
    "from sklearn import preprocessing\n",
    "import csv\n",
    "import pandas as pd\n",
    "import numpy as np\n",
    "import matplotlib.pyplot as plt\n",
    "from sklearn.model_selection import GridSearchCV\n",
    "from sklearn.preprocessing import MinMaxScaler\n",
    "# Классификаторы\n",
    "from sklearn.neighbors import KNeighborsClassifier\n",
    "from sklearn.ensemble import RandomForestClassifier\n",
    "from sklearn import svm"
   ]
  },
  {
   "cell_type": "code",
   "execution_count": 2,
   "id": "d3260e29",
   "metadata": {},
   "outputs": [
    {
     "data": {
      "text/html": [
       "<div>\n",
       "<style scoped>\n",
       "    .dataframe tbody tr th:only-of-type {\n",
       "        vertical-align: middle;\n",
       "    }\n",
       "\n",
       "    .dataframe tbody tr th {\n",
       "        vertical-align: top;\n",
       "    }\n",
       "\n",
       "    .dataframe thead th {\n",
       "        text-align: right;\n",
       "    }\n",
       "</style>\n",
       "<table border=\"1\" class=\"dataframe\">\n",
       "  <thead>\n",
       "    <tr style=\"text-align: right;\">\n",
       "      <th></th>\n",
       "      <th>erythema</th>\n",
       "      <th>scaling</th>\n",
       "      <th>definite borders</th>\n",
       "      <th>itching</th>\n",
       "      <th>koebner phenomenon</th>\n",
       "      <th>polygonal papules</th>\n",
       "      <th>follicular papules</th>\n",
       "      <th>oral mucosal involvement</th>\n",
       "      <th>knee and elbow involvement</th>\n",
       "      <th>scalp involvement</th>\n",
       "      <th>...</th>\n",
       "      <th>munro microabcess</th>\n",
       "      <th>focal hypergranulosis</th>\n",
       "      <th>disappearance of the granular layer</th>\n",
       "      <th>vacuolisation and damage of basal layer</th>\n",
       "      <th>spongiosis</th>\n",
       "      <th>saw-tooth appearance of retes</th>\n",
       "      <th>follicular horn plug</th>\n",
       "      <th>perifollicular parakeratosis</th>\n",
       "      <th>inflammatory monoluclear inflitrate</th>\n",
       "      <th>band-like infiltrate</th>\n",
       "    </tr>\n",
       "  </thead>\n",
       "  <tbody>\n",
       "    <tr>\n",
       "      <th>0</th>\n",
       "      <td>2</td>\n",
       "      <td>2</td>\n",
       "      <td>0</td>\n",
       "      <td>3</td>\n",
       "      <td>0</td>\n",
       "      <td>0</td>\n",
       "      <td>0</td>\n",
       "      <td>0</td>\n",
       "      <td>1</td>\n",
       "      <td>0</td>\n",
       "      <td>...</td>\n",
       "      <td>0</td>\n",
       "      <td>0</td>\n",
       "      <td>3</td>\n",
       "      <td>0</td>\n",
       "      <td>0</td>\n",
       "      <td>0</td>\n",
       "      <td>1</td>\n",
       "      <td>0</td>\n",
       "      <td>55</td>\n",
       "      <td>2</td>\n",
       "    </tr>\n",
       "    <tr>\n",
       "      <th>1</th>\n",
       "      <td>3</td>\n",
       "      <td>3</td>\n",
       "      <td>3</td>\n",
       "      <td>2</td>\n",
       "      <td>1</td>\n",
       "      <td>0</td>\n",
       "      <td>0</td>\n",
       "      <td>0</td>\n",
       "      <td>1</td>\n",
       "      <td>1</td>\n",
       "      <td>...</td>\n",
       "      <td>0</td>\n",
       "      <td>0</td>\n",
       "      <td>0</td>\n",
       "      <td>0</td>\n",
       "      <td>0</td>\n",
       "      <td>0</td>\n",
       "      <td>1</td>\n",
       "      <td>0</td>\n",
       "      <td>8</td>\n",
       "      <td>1</td>\n",
       "    </tr>\n",
       "    <tr>\n",
       "      <th>2</th>\n",
       "      <td>2</td>\n",
       "      <td>1</td>\n",
       "      <td>2</td>\n",
       "      <td>3</td>\n",
       "      <td>1</td>\n",
       "      <td>3</td>\n",
       "      <td>0</td>\n",
       "      <td>3</td>\n",
       "      <td>0</td>\n",
       "      <td>0</td>\n",
       "      <td>...</td>\n",
       "      <td>0</td>\n",
       "      <td>2</td>\n",
       "      <td>3</td>\n",
       "      <td>2</td>\n",
       "      <td>0</td>\n",
       "      <td>0</td>\n",
       "      <td>2</td>\n",
       "      <td>3</td>\n",
       "      <td>26</td>\n",
       "      <td>3</td>\n",
       "    </tr>\n",
       "    <tr>\n",
       "      <th>3</th>\n",
       "      <td>2</td>\n",
       "      <td>2</td>\n",
       "      <td>2</td>\n",
       "      <td>0</td>\n",
       "      <td>0</td>\n",
       "      <td>0</td>\n",
       "      <td>0</td>\n",
       "      <td>0</td>\n",
       "      <td>3</td>\n",
       "      <td>2</td>\n",
       "      <td>...</td>\n",
       "      <td>3</td>\n",
       "      <td>0</td>\n",
       "      <td>0</td>\n",
       "      <td>0</td>\n",
       "      <td>0</td>\n",
       "      <td>0</td>\n",
       "      <td>3</td>\n",
       "      <td>0</td>\n",
       "      <td>40</td>\n",
       "      <td>1</td>\n",
       "    </tr>\n",
       "    <tr>\n",
       "      <th>4</th>\n",
       "      <td>2</td>\n",
       "      <td>3</td>\n",
       "      <td>2</td>\n",
       "      <td>2</td>\n",
       "      <td>2</td>\n",
       "      <td>2</td>\n",
       "      <td>0</td>\n",
       "      <td>2</td>\n",
       "      <td>0</td>\n",
       "      <td>0</td>\n",
       "      <td>...</td>\n",
       "      <td>2</td>\n",
       "      <td>3</td>\n",
       "      <td>2</td>\n",
       "      <td>3</td>\n",
       "      <td>0</td>\n",
       "      <td>0</td>\n",
       "      <td>2</td>\n",
       "      <td>3</td>\n",
       "      <td>45</td>\n",
       "      <td>3</td>\n",
       "    </tr>\n",
       "    <tr>\n",
       "      <th>...</th>\n",
       "      <td>...</td>\n",
       "      <td>...</td>\n",
       "      <td>...</td>\n",
       "      <td>...</td>\n",
       "      <td>...</td>\n",
       "      <td>...</td>\n",
       "      <td>...</td>\n",
       "      <td>...</td>\n",
       "      <td>...</td>\n",
       "      <td>...</td>\n",
       "      <td>...</td>\n",
       "      <td>...</td>\n",
       "      <td>...</td>\n",
       "      <td>...</td>\n",
       "      <td>...</td>\n",
       "      <td>...</td>\n",
       "      <td>...</td>\n",
       "      <td>...</td>\n",
       "      <td>...</td>\n",
       "      <td>...</td>\n",
       "      <td>...</td>\n",
       "    </tr>\n",
       "    <tr>\n",
       "      <th>353</th>\n",
       "      <td>2</td>\n",
       "      <td>1</td>\n",
       "      <td>1</td>\n",
       "      <td>0</td>\n",
       "      <td>1</td>\n",
       "      <td>0</td>\n",
       "      <td>0</td>\n",
       "      <td>0</td>\n",
       "      <td>0</td>\n",
       "      <td>0</td>\n",
       "      <td>...</td>\n",
       "      <td>0</td>\n",
       "      <td>0</td>\n",
       "      <td>1</td>\n",
       "      <td>0</td>\n",
       "      <td>0</td>\n",
       "      <td>0</td>\n",
       "      <td>2</td>\n",
       "      <td>0</td>\n",
       "      <td>25</td>\n",
       "      <td>4</td>\n",
       "    </tr>\n",
       "    <tr>\n",
       "      <th>354</th>\n",
       "      <td>3</td>\n",
       "      <td>2</td>\n",
       "      <td>1</td>\n",
       "      <td>0</td>\n",
       "      <td>1</td>\n",
       "      <td>0</td>\n",
       "      <td>0</td>\n",
       "      <td>0</td>\n",
       "      <td>0</td>\n",
       "      <td>0</td>\n",
       "      <td>...</td>\n",
       "      <td>1</td>\n",
       "      <td>0</td>\n",
       "      <td>1</td>\n",
       "      <td>0</td>\n",
       "      <td>0</td>\n",
       "      <td>0</td>\n",
       "      <td>2</td>\n",
       "      <td>0</td>\n",
       "      <td>36</td>\n",
       "      <td>4</td>\n",
       "    </tr>\n",
       "    <tr>\n",
       "      <th>355</th>\n",
       "      <td>3</td>\n",
       "      <td>2</td>\n",
       "      <td>2</td>\n",
       "      <td>2</td>\n",
       "      <td>3</td>\n",
       "      <td>2</td>\n",
       "      <td>0</td>\n",
       "      <td>2</td>\n",
       "      <td>0</td>\n",
       "      <td>0</td>\n",
       "      <td>...</td>\n",
       "      <td>0</td>\n",
       "      <td>3</td>\n",
       "      <td>0</td>\n",
       "      <td>3</td>\n",
       "      <td>0</td>\n",
       "      <td>0</td>\n",
       "      <td>2</td>\n",
       "      <td>3</td>\n",
       "      <td>28</td>\n",
       "      <td>3</td>\n",
       "    </tr>\n",
       "    <tr>\n",
       "      <th>356</th>\n",
       "      <td>2</td>\n",
       "      <td>1</td>\n",
       "      <td>3</td>\n",
       "      <td>1</td>\n",
       "      <td>2</td>\n",
       "      <td>3</td>\n",
       "      <td>0</td>\n",
       "      <td>2</td>\n",
       "      <td>0</td>\n",
       "      <td>0</td>\n",
       "      <td>...</td>\n",
       "      <td>0</td>\n",
       "      <td>2</td>\n",
       "      <td>0</td>\n",
       "      <td>1</td>\n",
       "      <td>0</td>\n",
       "      <td>0</td>\n",
       "      <td>2</td>\n",
       "      <td>3</td>\n",
       "      <td>50</td>\n",
       "      <td>3</td>\n",
       "    </tr>\n",
       "    <tr>\n",
       "      <th>357</th>\n",
       "      <td>3</td>\n",
       "      <td>2</td>\n",
       "      <td>2</td>\n",
       "      <td>0</td>\n",
       "      <td>0</td>\n",
       "      <td>0</td>\n",
       "      <td>0</td>\n",
       "      <td>0</td>\n",
       "      <td>3</td>\n",
       "      <td>3</td>\n",
       "      <td>...</td>\n",
       "      <td>2</td>\n",
       "      <td>0</td>\n",
       "      <td>0</td>\n",
       "      <td>0</td>\n",
       "      <td>0</td>\n",
       "      <td>0</td>\n",
       "      <td>3</td>\n",
       "      <td>0</td>\n",
       "      <td>35</td>\n",
       "      <td>1</td>\n",
       "    </tr>\n",
       "  </tbody>\n",
       "</table>\n",
       "<p>358 rows × 35 columns</p>\n",
       "</div>"
      ],
      "text/plain": [
       "     erythema  scaling  definite borders  itching  koebner phenomenon  \\\n",
       "0           2        2                 0        3                   0   \n",
       "1           3        3                 3        2                   1   \n",
       "2           2        1                 2        3                   1   \n",
       "3           2        2                 2        0                   0   \n",
       "4           2        3                 2        2                   2   \n",
       "..        ...      ...               ...      ...                 ...   \n",
       "353         2        1                 1        0                   1   \n",
       "354         3        2                 1        0                   1   \n",
       "355         3        2                 2        2                   3   \n",
       "356         2        1                 3        1                   2   \n",
       "357         3        2                 2        0                   0   \n",
       "\n",
       "     polygonal papules  follicular papules  oral mucosal involvement  \\\n",
       "0                    0                   0                         0   \n",
       "1                    0                   0                         0   \n",
       "2                    3                   0                         3   \n",
       "3                    0                   0                         0   \n",
       "4                    2                   0                         2   \n",
       "..                 ...                 ...                       ...   \n",
       "353                  0                   0                         0   \n",
       "354                  0                   0                         0   \n",
       "355                  2                   0                         2   \n",
       "356                  3                   0                         2   \n",
       "357                  0                   0                         0   \n",
       "\n",
       "     knee and elbow involvement  scalp involvement  ...  munro microabcess  \\\n",
       "0                             1                  0  ...                  0   \n",
       "1                             1                  1  ...                  0   \n",
       "2                             0                  0  ...                  0   \n",
       "3                             3                  2  ...                  3   \n",
       "4                             0                  0  ...                  2   \n",
       "..                          ...                ...  ...                ...   \n",
       "353                           0                  0  ...                  0   \n",
       "354                           0                  0  ...                  1   \n",
       "355                           0                  0  ...                  0   \n",
       "356                           0                  0  ...                  0   \n",
       "357                           3                  3  ...                  2   \n",
       "\n",
       "     focal hypergranulosis  disappearance of the granular layer  \\\n",
       "0                        0                                    3   \n",
       "1                        0                                    0   \n",
       "2                        2                                    3   \n",
       "3                        0                                    0   \n",
       "4                        3                                    2   \n",
       "..                     ...                                  ...   \n",
       "353                      0                                    1   \n",
       "354                      0                                    1   \n",
       "355                      3                                    0   \n",
       "356                      2                                    0   \n",
       "357                      0                                    0   \n",
       "\n",
       "     vacuolisation and damage of basal layer  spongiosis  \\\n",
       "0                                          0           0   \n",
       "1                                          0           0   \n",
       "2                                          2           0   \n",
       "3                                          0           0   \n",
       "4                                          3           0   \n",
       "..                                       ...         ...   \n",
       "353                                        0           0   \n",
       "354                                        0           0   \n",
       "355                                        3           0   \n",
       "356                                        1           0   \n",
       "357                                        0           0   \n",
       "\n",
       "     saw-tooth appearance of retes  follicular horn plug  \\\n",
       "0                                0                     1   \n",
       "1                                0                     1   \n",
       "2                                0                     2   \n",
       "3                                0                     3   \n",
       "4                                0                     2   \n",
       "..                             ...                   ...   \n",
       "353                              0                     2   \n",
       "354                              0                     2   \n",
       "355                              0                     2   \n",
       "356                              0                     2   \n",
       "357                              0                     3   \n",
       "\n",
       "     perifollicular parakeratosis  inflammatory monoluclear inflitrate  \\\n",
       "0                               0                                   55   \n",
       "1                               0                                    8   \n",
       "2                               3                                   26   \n",
       "3                               0                                   40   \n",
       "4                               3                                   45   \n",
       "..                            ...                                  ...   \n",
       "353                             0                                   25   \n",
       "354                             0                                   36   \n",
       "355                             3                                   28   \n",
       "356                             3                                   50   \n",
       "357                             0                                   35   \n",
       "\n",
       "     band-like infiltrate  \n",
       "0                       2  \n",
       "1                       1  \n",
       "2                       3  \n",
       "3                       1  \n",
       "4                       3  \n",
       "..                    ...  \n",
       "353                     4  \n",
       "354                     4  \n",
       "355                     3  \n",
       "356                     3  \n",
       "357                     1  \n",
       "\n",
       "[358 rows x 35 columns]"
      ]
     },
     "execution_count": 2,
     "metadata": {},
     "output_type": "execute_result"
    }
   ],
   "source": [
    "dataset = pd.read_csv(\"dermatology.data\")\n",
    "dataset"
   ]
  },
  {
   "cell_type": "code",
   "execution_count": 3,
   "id": "d1437c58",
   "metadata": {},
   "outputs": [],
   "source": [
    "#Выделяем признак, по которому будем классифицировать объекты\n",
    "target_feature='spongiosis'\n",
    "data = dataset.drop([target_feature], axis=1)\n",
    "target = dataset[target_feature]\n",
    "\n",
    "#Разделяем выборку на обучающую и тестовую\n",
    "X_train, X_test, y_train, y_test = train_test_split(data, target, test_size=0.7)"
   ]
  },
  {
   "cell_type": "code",
   "execution_count": 4,
   "id": "663dc691",
   "metadata": {},
   "outputs": [
    {
     "name": "stdout",
     "output_type": "stream",
     "text": [
      "[0 1 2 3]\n"
     ]
    }
   ],
   "source": [
    "print(target.unique())"
   ]
  },
  {
   "cell_type": "code",
   "execution_count": 5,
   "id": "8c1e7b7b",
   "metadata": {},
   "outputs": [],
   "source": [
    "scaler = MinMaxScaler()\n",
    "scaler.fit(X_train)\n",
    "X_train = scaler.transform(X_train)\n",
    "X_test = scaler.transform(X_test)"
   ]
  },
  {
   "cell_type": "markdown",
   "id": "713187c4",
   "metadata": {},
   "source": [
    "# 1. SVM-классификатор"
   ]
  },
  {
   "cell_type": "code",
   "execution_count": 8,
   "id": "6d8d26f2",
   "metadata": {},
   "outputs": [],
   "source": [
    "param_grid = {'C': [0.1, 1, 10, 100, 1000],\n",
    "              'gamma': [1, 0.1, 0.01, 0.001, 0.0001],\n",
    "              'kernel': ['rbf', 'linear', 'poly', 'sigmoid']}\n",
    " \n",
    "grid = GridSearchCV(svm.SVC(), param_grid, refit = True)"
   ]
  },
  {
   "cell_type": "code",
   "execution_count": 9,
   "id": "8c70875e",
   "metadata": {},
   "outputs": [
    {
     "name": "stderr",
     "output_type": "stream",
     "text": [
      "D:\\Anaconda\\lib\\site-packages\\sklearn\\model_selection\\_split.py:666: UserWarning: The least populated class in y has only 1 members, which is less than n_splits=5.\n",
      "  warnings.warn((\"The least populated class in y has only %d\"\n"
     ]
    },
    {
     "name": "stdout",
     "output_type": "stream",
     "text": [
      "{'C': 1, 'gamma': 1, 'kernel': 'linear'}\n",
      "SVC(C=1, gamma=1, kernel='linear')\n"
     ]
    }
   ],
   "source": [
    "grid.fit(X_train, y_train)\n",
    "print(grid.best_params_)\n",
    "print(grid.best_estimator_)"
   ]
  },
  {
   "cell_type": "code",
   "execution_count": 11,
   "id": "72fa337a",
   "metadata": {},
   "outputs": [
    {
     "name": "stdout",
     "output_type": "stream",
     "text": [
      "Общая точность:  0.9681274900398407\n",
      "Precision:  0.9607618539589401\n",
      "Recall:  0.9681274900398407\n",
      "F1-measure:  0.9641559547971634\n",
      "Число опорных векторов:  32\n"
     ]
    },
    {
     "name": "stderr",
     "output_type": "stream",
     "text": [
      "D:\\Anaconda\\lib\\site-packages\\sklearn\\metrics\\_classification.py:1248: UndefinedMetricWarning: Precision is ill-defined and being set to 0.0 in labels with no predicted samples. Use `zero_division` parameter to control this behavior.\n",
      "  _warn_prf(average, modifier, msg_start, len(result))\n"
     ]
    }
   ],
   "source": [
    "cls = svm.SVC(C=1, gamma=1, kernel='linear')\n",
    "cls.fit(X_train, y_train)\n",
    "\n",
    "pred = cls.predict(X_test)\n",
    "print(\"Общая точность: \", metrics.accuracy_score(y_test, y_pred=pred))\n",
    "print(\"Precision: \", metrics.precision_score(y_test, y_pred=pred, average='weighted'))\n",
    "print(\"Recall: \", metrics.recall_score(y_test, y_pred=pred, average='weighted'))\n",
    "print(\"F1-measure: \", metrics.f1_score(y_test, y_pred=pred, average='weighted'))\n",
    "print(\"Число опорных векторов: \", len(cls.support_vectors_))\n",
    "#print(metrics.classification_report(y_test, y_pred=pred))"
   ]
  },
  {
   "cell_type": "code",
   "execution_count": 12,
   "id": "e7eb31cc",
   "metadata": {},
   "outputs": [
    {
     "name": "stdout",
     "output_type": "stream",
     "text": [
      "Опорные векторы:\n",
      " [ 0  6  9 13 20 26 27 29 30 31 33 36 39 41 44 45 47 57 73 78 95 96 98 25\n",
      " 40 46 79 81 28 34 89 85]\n"
     ]
    }
   ],
   "source": [
    "print(\"Опорные векторы:\\n\", cls.support_)"
   ]
  },
  {
   "cell_type": "code",
   "execution_count": 13,
   "id": "7e47855a",
   "metadata": {},
   "outputs": [
    {
     "data": {
      "image/png": "[encoded data removed]",
      "text/plain": [
       "<Figure size 432x288 with 1 Axes>"
      ]
     },
     "metadata": {
      "needs_background": "light"
     },
     "output_type": "display_data"
    }
   ],
   "source": [
    "import umap\n",
    "reducer = umap.UMAP()\n",
    "\n",
    "#Уменьшаем размерность данных и опорных векторов\n",
    "X_test_2d = pd.DataFrame(reducer.fit_transform(X_test))\n",
    "\n",
    "#Выделяем опорные векторы\n",
    "#support_vectors = reducer.fit_transform(cls.support_vectors_)\n",
    "support_vectors = [[], [], []]\n",
    "for i in cls.support_:\n",
    "    support_vectors[0].append(X_test_2d[0][i])\n",
    "    support_vectors[1].append(X_test_2d[1][i])\n",
    "    support_vectors[2].append(pred[i])\n",
    "\n",
    "import matplotlib.pyplot as plt\n",
    "colormap = np.array(['b', 'g', 'r', 'y'])\n",
    "colormap2 = np.array(['orange', 'brown', 'cyan', 'pink'])\n",
    "\n",
    "plt.title(target_feature)\n",
    "plt.scatter(X_test_2d[0], X_test_2d[1], alpha=0.1, c=colormap[pred], cmap='viridis')\n",
    "plt.scatter(support_vectors[0], support_vectors[1], alpha=1, c=colormap2[support_vectors[2]], cmap='viridis')\n",
    "#plt.scatter(support_vectors[:,0], support_vectors[:,1], color='orange')\n",
    "plt.show()"
   ]
  },
  {
   "cell_type": "markdown",
   "id": "93d3924d",
   "metadata": {},
   "source": [
    "Опорные векторы:\n",
    "* **оранжевые** - для класса объектов, выделенных **синим** цветом\n",
    "* **оричневые** - для класса объектов, выделенных **зеленым** цветом\n",
    "* **морской волны** - для класса объектов, выделенных **красным** цветом\n",
    "* **озовые** - для класса объектов, выделенных **желтым** цветом\n",
    "\n",
    "Поскольку весомая часть объектов принадлежит одному классу, классификатор может отнести остальные объекты не к 3-м оставшимся классам, а к одному из них. Соответственно, на графике могут отражаться не все опорные векторы."
   ]
  },
  {
   "cell_type": "code",
   "execution_count": 14,
   "id": "24e1e4c6",
   "metadata": {},
   "outputs": [
    {
     "data": {
      "image/png": "[encoded data removed]",
      "text/plain": [
       "<Figure size 432x288 with 1 Axes>"
      ]
     },
     "metadata": {
      "needs_background": "light"
     },
     "output_type": "display_data"
    }
   ],
   "source": [
    "from sklearn.manifold import TSNE\n",
    "tsne = TSNE(n_components=2, random_state=0)\n",
    "\n",
    "#Уменьшаем размерность данных и опорных векторов\n",
    "X_test_2d = pd.DataFrame(tsne.fit_transform(X_test))\n",
    "\n",
    "#Выделяем опорные векторы\n",
    "#support_vectors = reducer.fit_transform(cls.support_vectors_)\n",
    "support_vectors = [[], [], []]\n",
    "for i in cls.support_:\n",
    "    support_vectors[0].append(X_test_2d[0][i])\n",
    "    support_vectors[1].append(X_test_2d[1][i])\n",
    "    support_vectors[2].append(pred[i])\n",
    "\n",
    "import matplotlib.pyplot as plt\n",
    "colormap = np.array(['b', 'g', 'r', 'y'])\n",
    "colormap2 = np.array(['orange', 'brown', 'cyan', 'pink'])\n",
    "\n",
    "plt.title(target_feature)\n",
    "plt.scatter(X_test_2d[0], X_test_2d[1], alpha=0.2, c=colormap[pred], cmap='viridis')\n",
    "plt.scatter(support_vectors[0], support_vectors[1], alpha=1, c=colormap2[support_vectors[2]], cmap='viridis')\n",
    "#plt.scatter(support_vectors[:,0], support_vectors[:,1], color='orange')\n",
    "plt.show()"
   ]
  },
  {
   "cell_type": "markdown",
   "id": "5905f7e2",
   "metadata": {},
   "source": [
    "Опорные векторы:\n",
    "* **оранжевые** - для класса объектов, выделенных **синим** цветом\n",
    "* **оричневые** - для класса объектов, выделенных **зеленым** цветом\n",
    "* **морской волны** - для класса объектов, выделенных **красным** цветом\n",
    "* **озовые** - для класса объектов, выделенных **желтым** цветом\n",
    "\n",
    "Поскольку весомая часть объектов принадлежит одному классу, классификатор может отнести остальные объекты не к 3-м оставшимся классам, а к одному из них. Соответственно, на графике могут отражаться не все опорные векторы."
   ]
  },
  {
   "cell_type": "markdown",
   "id": "d1ea1d37",
   "metadata": {},
   "source": [
    "## 1.2. Сравнение разбиения на классы на основе выборок с известными метками классов метками выставленными классификатором"
   ]
  },
  {
   "cell_type": "code",
   "execution_count": 15,
   "id": "8aa68d17",
   "metadata": {},
   "outputs": [
    {
     "data": {
      "image/png": "[encoded data removed]",
      "text/plain": [
       "<Figure size 432x288 with 2 Axes>"
      ]
     },
     "metadata": {
      "needs_background": "light"
     },
     "output_type": "display_data"
    }
   ],
   "source": [
    "_, (ax1, ax2) = plt.subplots(1, 2)\n",
    "\n",
    "X_test_2d = pd.DataFrame(tsne.fit_transform(X_test))\n",
    "\n",
    "ax1.scatter(X_test_2d[0], X_test_2d[1], c=colormap[y_test], alpha=0.1)\n",
    "ax1.set_title('Тестовые данные')\n",
    "ax2.scatter(X_test_2d[0], X_test_2d[1], c=colormap[pred], alpha=0.1)\n",
    "ax2.set_title('Предсказанные данные')\n",
    "plt.show()"
   ]
  },
  {
   "cell_type": "markdown",
   "id": "8deeb27f",
   "metadata": {},
   "source": [
    "# 2. KNN-классификатор"
   ]
  },
  {
   "cell_type": "code",
   "execution_count": 16,
   "id": "3fd7e0fd",
   "metadata": {},
   "outputs": [],
   "source": [
    "param_grid = {'n_neighbors': [1, 2, 3, 4, 5, 6, 7],\n",
    "              'metric': ['euclidean', 'manhattan', 'chebyshev', 'minkowski'],\n",
    "              'n_jobs': [1, 2, 3, 4, 5],\n",
    "              'algorithm': ['auto', 'ball_tree', 'kd_tree', 'brute']}\n",
    " \n",
    "grid = GridSearchCV(KNeighborsClassifier(), param_grid, refit = True)"
   ]
  },
  {
   "cell_type": "code",
   "execution_count": 17,
   "id": "d79b7970",
   "metadata": {},
   "outputs": [
    {
     "name": "stderr",
     "output_type": "stream",
     "text": [
      "D:\\Anaconda\\lib\\site-packages\\sklearn\\model_selection\\_split.py:666: UserWarning: The least populated class in y has only 1 members, which is less than n_splits=5.\n",
      "  warnings.warn((\"The least populated class in y has only %d\"\n"
     ]
    },
    {
     "name": "stdout",
     "output_type": "stream",
     "text": [
      "{'algorithm': 'auto', 'metric': 'euclidean', 'n_jobs': 1, 'n_neighbors': 1}\n",
      "KNeighborsClassifier(metric='euclidean', n_jobs=1, n_neighbors=1)\n"
     ]
    }
   ],
   "source": [
    "grid.fit(X_train, y_train)\n",
    "print(grid.best_params_)\n",
    "print(grid.best_estimator_)"
   ]
  },
  {
   "cell_type": "code",
   "execution_count": 18,
   "id": "5b05dab7",
   "metadata": {},
   "outputs": [
    {
     "name": "stdout",
     "output_type": "stream",
     "text": [
      "Общая точность:  0.9641434262948207\n",
      "Precision:  0.9721115537848606\n",
      "Recall:  0.9641434262948207\n",
      "F1-measure:  0.964712578258395\n"
     ]
    }
   ],
   "source": [
    "knn = KNeighborsClassifier(metric='euclidean', n_jobs=1, n_neighbors=1)\n",
    "knn.fit(X_train, y_train)\n",
    "\n",
    "pred = knn.predict(X_test)\n",
    "print(\"Общая точность: \", metrics.accuracy_score(y_test, y_pred=pred))\n",
    "print(\"Precision: \", metrics.precision_score(y_test, y_pred=pred, average='weighted'))\n",
    "print(\"Recall: \", metrics.recall_score(y_test, y_pred=pred, average='weighted'))\n",
    "print(\"F1-measure: \", metrics.f1_score(y_test, y_pred=pred, average='weighted'))\n",
    "#print(metrics.classification_report(y_test, y_pred=pred))"
   ]
  },
  {
   "cell_type": "code",
   "execution_count": 19,
   "id": "64c18d22",
   "metadata": {},
   "outputs": [
    {
     "data": {
      "image/png": "[encoded data removed]",
      "text/plain": [
       "<Figure size 432x288 with 1 Axes>"
      ]
     },
     "metadata": {
      "needs_background": "light"
     },
     "output_type": "display_data"
    }
   ],
   "source": [
    "import umap\n",
    "reducer = umap.UMAP()\n",
    "#Уменьшаем размерность данных и опорных векторов\n",
    "X_test_2d = pd.DataFrame(reducer.fit_transform(X_test))\n",
    "\n",
    "import matplotlib.pyplot as plt\n",
    "colormap = np.array(['b', 'g', 'r', 'y'])\n",
    "\n",
    "plt.title(target_feature)\n",
    "plt.scatter(X_test_2d[0], X_test_2d[1], alpha=0.1, c=colormap[pred], cmap='viridis')\n",
    "\n",
    "plt.show()"
   ]
  },
  {
   "cell_type": "code",
   "execution_count": 20,
   "id": "c725c3f4",
   "metadata": {},
   "outputs": [
    {
     "data": {
      "image/png": "[encoded data removed]",
      "text/plain": [
       "<Figure size 432x288 with 1 Axes>"
      ]
     },
     "metadata": {
      "needs_background": "light"
     },
     "output_type": "display_data"
    }
   ],
   "source": [
    "from sklearn.manifold import TSNE\n",
    "\n",
    "tsne = TSNE(n_components=2, random_state=0)\n",
    "\n",
    "X_test_2d = pd.DataFrame(tsne.fit_transform(X_test))\n",
    "\n",
    "import matplotlib.pyplot as plt\n",
    "colormap = np.array(['b', 'g', 'r', 'y'])\n",
    "\n",
    "plt.title(target_feature)\n",
    "plt.scatter(X_test_2d[0], X_test_2d[1], alpha=0.2, c=colormap[pred], cmap='viridis')\n",
    "\n",
    "plt.show()"
   ]
  },
  {
   "cell_type": "markdown",
   "id": "0bf7a950",
   "metadata": {},
   "source": [
    "## 2.2. Сравнение разбиения на классы на основе выборок с известными метками классов метками выставленными классификатором"
   ]
  },
  {
   "cell_type": "code",
   "execution_count": 21,
   "id": "591dff58",
   "metadata": {},
   "outputs": [
    {
     "data": {
      "image/png": "[encoded data removed]",
      "text/plain": [
       "<Figure size 432x288 with 2 Axes>"
      ]
     },
     "metadata": {
      "needs_background": "light"
     },
     "output_type": "display_data"
    }
   ],
   "source": [
    "_, (ax1, ax2) = plt.subplots(1, 2)\n",
    "\n",
    "X_test_2d = pd.DataFrame(tsne.fit_transform(X_test))\n",
    "\n",
    "ax1.scatter(X_test_2d[0], X_test_2d[1], c=colormap[y_test], alpha=0.1)\n",
    "ax1.set_title('Тестовые данные')\n",
    "ax2.scatter(X_test_2d[0], X_test_2d[1], c=colormap[pred], alpha=0.1)\n",
    "ax2.set_title('Предсказанные данные')\n",
    "plt.show()"
   ]
  },
  {
   "cell_type": "markdown",
   "id": "7dde6892",
   "metadata": {},
   "source": [
    "# 3. RF-классификатор"
   ]
  },
  {
   "cell_type": "code",
   "execution_count": 22,
   "id": "cc3abc4d",
   "metadata": {},
   "outputs": [],
   "source": [
    "param_grid = {'criterion': ['gini', 'entropy'],\n",
    "              'n_estimators': [10, 30, 50, 100],\n",
    "              'max_features': ['auto', 'sqrt', 'log2']}\n",
    " \n",
    "grid = GridSearchCV(RandomForestClassifier(), param_grid, refit = True)"
   ]
  },
  {
   "cell_type": "code",
   "execution_count": 23,
   "id": "d588cfe1",
   "metadata": {},
   "outputs": [
    {
     "name": "stderr",
     "output_type": "stream",
     "text": [
      "D:\\Anaconda\\lib\\site-packages\\sklearn\\model_selection\\_split.py:666: UserWarning: The least populated class in y has only 1 members, which is less than n_splits=5.\n",
      "  warnings.warn((\"The least populated class in y has only %d\"\n"
     ]
    },
    {
     "name": "stdout",
     "output_type": "stream",
     "text": [
      "{'criterion': 'gini', 'max_features': 'auto', 'n_estimators': 30}\n",
      "RandomForestClassifier(n_estimators=30)\n"
     ]
    }
   ],
   "source": [
    "grid.fit(X_train, y_train)\n",
    "print(grid.best_params_)\n",
    "print(grid.best_estimator_)"
   ]
  },
  {
   "cell_type": "code",
   "execution_count": 24,
   "id": "56408b34",
   "metadata": {},
   "outputs": [
    {
     "name": "stdout",
     "output_type": "stream",
     "text": [
      "Общая точность:  0.9561752988047809\n",
      "Precision:  0.9417873958710613\n",
      "Recall:  0.9561752988047809\n",
      "F1-measure:  0.9477425027921786\n"
     ]
    },
    {
     "name": "stderr",
     "output_type": "stream",
     "text": [
      "D:\\Anaconda\\lib\\site-packages\\sklearn\\metrics\\_classification.py:1248: UndefinedMetricWarning: Precision is ill-defined and being set to 0.0 in labels with no predicted samples. Use `zero_division` parameter to control this behavior.\n",
      "  _warn_prf(average, modifier, msg_start, len(result))\n"
     ]
    }
   ],
   "source": [
    "rf = RandomForestClassifier(criterion='entropy', max_features='sqrt', n_estimators=30)\n",
    "rf.fit(X_train, y_train)\n",
    "\n",
    "pred = rf.predict(X_test)\n",
    "print(\"Общая точность: \", metrics.accuracy_score(y_test, y_pred=pred))\n",
    "print(\"Precision: \", metrics.precision_score(y_test, y_pred=pred, average='weighted'))\n",
    "print(\"Recall: \", metrics.recall_score(y_test, y_pred=pred, average='weighted'))\n",
    "print(\"F1-measure: \", metrics.f1_score(y_test, y_pred=pred, average='weighted'))\n",
    "#print(metrics.classification_report(y_test, y_pred=pred))"
   ]
  },
  {
   "cell_type": "code",
   "execution_count": 25,
   "id": "5b9a1d83",
   "metadata": {},
   "outputs": [
    {
     "data": {
      "image/png": "[encoded data removed]",
      "text/plain": [
       "<Figure size 432x288 with 1 Axes>"
      ]
     },
     "metadata": {
      "needs_background": "light"
     },
     "output_type": "display_data"
    }
   ],
   "source": [
    "import umap\n",
    "reducer = umap.UMAP()\n",
    "#Уменьшаем размерность данных и опорных векторов\n",
    "X_test_2d = pd.DataFrame(reducer.fit_transform(X_test))\n",
    "\n",
    "import matplotlib.pyplot as plt\n",
    "colormap = np.array(['b', 'g', 'r', 'y'])\n",
    "\n",
    "plt.title(target_feature)\n",
    "plt.scatter(X_test_2d[0], X_test_2d[1], alpha=0.1, c=colormap[pred], cmap='viridis')\n",
    "\n",
    "plt.show()"
   ]
  },
  {
   "cell_type": "code",
   "execution_count": 26,
   "id": "efe43357",
   "metadata": {},
   "outputs": [
    {
     "data": {
      "image/png": "[encoded data removed]",
      "text/plain": [
       "<Figure size 432x288 with 1 Axes>"
      ]
     },
     "metadata": {
      "needs_background": "light"
     },
     "output_type": "display_data"
    }
   ],
   "source": [
    "from sklearn.manifold import TSNE\n",
    "\n",
    "tsne = TSNE(n_components=2, random_state=0)\n",
    "\n",
    "X_test_2d = pd.DataFrame(tsne.fit_transform(X_test))\n",
    "\n",
    "import matplotlib.pyplot as plt\n",
    "colormap = np.array(['b', 'g', 'r', 'y'])\n",
    "\n",
    "plt.title(target_feature)\n",
    "plt.scatter(X_test_2d[0], X_test_2d[1], alpha=0.2, c=colormap[pred], cmap='viridis')\n",
    "\n",
    "plt.show()"
   ]
  },
  {
   "cell_type": "markdown",
   "id": "eded3ac6",
   "metadata": {},
   "source": [
    "## 3.2. Сравнение разбиения на классы на основе выборок с известными метками классов метками выставленными классификатором"
   ]
  },
  {
   "cell_type": "code",
   "execution_count": 27,
   "id": "608b547c",
   "metadata": {},
   "outputs": [
    {
     "data": {
      "image/png": "[encoded data removed]",
      "text/plain": [
       "<Figure size 432x288 with 2 Axes>"
      ]
     },
     "metadata": {
      "needs_background": "light"
     },
     "output_type": "display_data"
    }
   ],
   "source": [
    "_, (ax1, ax2) = plt.subplots(1, 2)\n",
    "\n",
    "X_test_2d = pd.DataFrame(tsne.fit_transform(X_test))\n",
    "\n",
    "ax1.scatter(X_test_2d[0], X_test_2d[1], c=colormap[y_test], alpha=0.1)\n",
    "ax1.set_title('Тестовые данные')\n",
    "ax2.scatter(X_test_2d[0], X_test_2d[1], c=colormap[pred], alpha=0.1)\n",
    "ax2.set_title('Предсказанные данные')\n",
    "plt.show()"
   ]
  },
  {
   "cell_type": "markdown",
   "id": "225ad454",
   "metadata": {},
   "source": [
    "# 4. Сравнение классификаторов"
   ]
  },
  {
   "cell_type": "code",
   "execution_count": 32,
   "id": "851a5556",
   "metadata": {},
   "outputs": [],
   "source": [
    "def test_classifier(classifier, X_train, y_train, X_test, tests_count):\n",
    "    import time\n",
    "    \n",
    "    approximate_time = 0\n",
    "    for i in range(tests_count):\n",
    "        start_time = time.time()\n",
    "        classifier.fit(X_train, y_train)\n",
    "        pred = classifier.predict(X_test)\n",
    "        t = time.time()\n",
    "        approximate_time += round(t - start_time, 10)\n",
    "    \n",
    "    return approximate_time / tests_count, metrics.accuracy_score(y_test, y_pred=pred)"
   ]
  },
  {
   "cell_type": "code",
   "execution_count": 53,
   "id": "2962ddea",
   "metadata": {},
   "outputs": [
    {
     "name": "stdout",
     "output_type": "stream",
     "text": [
      "RANDOM FOREST:\n",
      "   Время:  0.03906358480500001 \n",
      "   Точность:  0.9601593625498008\n",
      "SVM:\n",
      "   Время:  0.0012506723500000003 \n",
      "   Точность:  0.9681274900398407\n",
      "KNN:\n",
      "   Время:  0.007999837400000001 \n",
      "   Точность:  0.9641434262948207\n"
     ]
    }
   ],
   "source": [
    "rf_time, rf_acc = test_classifier(rf, X_train, y_train, X_test, 20)\n",
    "print(\"RANDOM FOREST:\\n   Время: \", rf_time, \"\\n   Точность: \", rf_acc)\n",
    "svm_time, svm_acc = test_classifier(cls, X_train, y_train, X_test, 20)\n",
    "print(\"SVM:\\n   Время: \", svm_time, \"\\n   Точность: \", svm_acc)\n",
    "knn_time, knn_acc = test_classifier(knn, X_train, y_train, X_test, 20)\n",
    "print(\"KNN:\\n   Время: \", knn_time, \"\\n   Точность: \", knn_acc)"
   ]
  },
  {
   "cell_type": "code",
   "execution_count": 59,
   "id": "6169684e",
   "metadata": {},
   "outputs": [
    {
     "data": {
      "image/png": "[encoded data removed]",
      "text/plain": [
       "<Figure size 432x288 with 2 Axes>"
      ]
     },
     "metadata": {
      "needs_background": "light"
     },
     "output_type": "display_data"
    }
   ],
   "source": [
    "x = ['SVM', 'KNN', 'RF']\n",
    "y1 = [svm_time, knn_time, rf_time]\n",
    "y2 = [svm_acc, knn_acc, rf_acc]\n",
    "\n",
    "time_colors = []\n",
    "acc_colors = []\n",
    "\n",
    "# Выбираем наименьшее время среди всех классификаторов\n",
    "ref_value = min(y1)\n",
    "for t in y1:\n",
    "    if t == ref_value:\n",
    "        time_colors.append('r')\n",
    "    else:\n",
    "        time_colors.append('g')\n",
    "        \n",
    "# Выбираем наибольшее значение точности среди всех классификаторов\n",
    "ref_value = max(y2)\n",
    "for t in y2:\n",
    "    if t == ref_value:\n",
    "        acc_colors.append('r')\n",
    "    else:\n",
    "        acc_colors.append('g')\n",
    "\n",
    "_, (ax1, ax2) = plt.subplots(1, 2)\n",
    "\n",
    "ax1.bar(x,y1,align='center',color=time_colors)\n",
    "ax2.set_title('Время')\n",
    "ax2.bar(x,y2,align='center',color=acc_colors)\n",
    "ax2.set_title('Точность')\n",
    "plt.show()"
   ]
  },
  {
   "cell_type": "markdown",
   "id": "5f212e54",
   "metadata": {},
   "source": [
    "**Вывод**: В соответствии с проведенными выше измерениями, SVM-классификатор является лучшим для классификации имеющихся данных"
   ]
  }
 ],
 "metadata": {
  "kernelspec": {
   "display_name": "Python 3 (ipykernel)",
   "language": "python",
   "name": "python3"
  },
  "language_info": {
   "codemirror_mode": {
    "name": "ipython",
    "version": 3
   },
   "file_extension": ".py",
   "mimetype": "text/x-python",
   "name": "python",
   "nbconvert_exporter": "python",
   "pygments_lexer": "ipython3",
   "version": "3.8.11"
  }
 },
 "nbformat": 4,
 "nbformat_minor": 5
}
